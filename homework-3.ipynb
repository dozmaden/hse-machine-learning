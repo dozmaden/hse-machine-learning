{
 "cells": [
  {
   "cell_type": "markdown",
   "metadata": {
    "id": "s3v5HIUdDvY5"
   },
   "source": [
    "# HSE 2021: Mathematical Methods for Data Analysis\n",
    "\n",
    "## Homework 3\n",
    "\n",
    "**Warning 1**: some problems require (especially the lemmatization part) significant amount of time, so **it is better to start early (!)**\n",
    "\n",
    "**Warning 2**: it is critical to describe and explain what you are doing and why, use markdown cells\n",
    "\n",
    "### Attention!\n",
    "* For tasks where <ins>text answer</ins> is required **Russian language** is **allowed**.\n",
    "* If a task asks you to describe something (make conclusions) then **text answer** is **mandatory** and **is** part of the task\n",
    "* We **only** accept **ipynb** notebooks. If you use Google Colab then you'll have to download the notebook before passing the homework\n",
    "* **Do not** use python loops instead of NumPy vector operations over NumPy vectors - it significantly decreases performance (see why https://blog.paperspace.com/numpy-optimization-vectorization-and-broadcasting/), will be punished with -0.25 for **every** task. "
   ]
  },
  {
   "cell_type": "code",
   "execution_count": 1,
   "metadata": {
    "id": "F7t9dYtdDvZC"
   },
   "outputs": [],
   "source": [
    "# Ozmaden Deniz BSE 196\n",
    "\n",
    "from typing import Tuple, List\n",
    "\n",
    "import matplotlib.pyplot as plt\n",
    "import numpy as np\n",
    "import pandas as pd\n",
    "import seaborn as sns\n",
    "%matplotlib inline\n",
    "\n",
    "sns.set(style=\"darkgrid\")"
   ]
  },
  {
   "cell_type": "markdown",
   "metadata": {
    "id": "fIHtwV6vDvZD"
   },
   "source": [
    "## PART 1: Logit model"
   ]
  },
  {
   "cell_type": "markdown",
   "metadata": {
    "id": "Q7XKEWcVDvZD"
   },
   "source": [
    "We consider a binary classification problem. For prediction, we would like to use a logistic regression model. For regularization we add a combination of the $l_2$ and $l_1$ penalties (Elastic Net). \n",
    "\n",
    "Each object in the training dataset is indexed with $i$ and described by pair: features $x_i\\in\\mathbb{R}^{K}$ and binary labels $y_i$. The model is parametrized with bias $w_0\\in\\mathbb{R}$ and weights $w\\in\\mathbb{R}^K$.\n",
    "\n",
    "The optimization problem with respect to the $w_0, w$ is the following (Elastic Net Loss):\n",
    "\n",
    "$$L(w, w_0) = \\frac{1}{N} \\sum_{i=1}^N \\ln(1+\\exp(-y_i(w^\\top x_i+w_0))) + \\gamma \\|w\\|_1 + \\beta \\|w\\|_2^2$$"
   ]
  },
  {
   "cell_type": "markdown",
   "metadata": {
    "id": "j1eSuDKXFVZu"
   },
   "source": [
    "#### 1. [0.5 points]  Find the gradient of the Elastic Net loss and write its formulas (better in latex format) "
   ]
  },
  {
   "cell_type": "markdown",
   "metadata": {
    "id": "1zjH-YnPDvZD"
   },
   "source": [
    "##### Put your markdown formulas here below:\n",
    "\n",
    "##### $$\\nabla_w L(w,w_0)= -\\frac{1}{N} \\sum_{i=1}^N \\frac{exp(-y_i (w^Tx_i+w_0))}{1+exp(-y_i (w^Tx_i+w_0))} y_i x_i + \\gamma sign(w)+ 2 \\beta w $$\n",
    "\n",
    "##### $$\\nabla_{w_0} L(w,w_0)= -\\frac{1}{N} \\sum_{i=1}^N \\frac{exp(-y_i (w^Tx_i+w_0))}{1+exp(-y_i (w^Tx_i+w_0))}y_i $$"
   ]
  },
  {
   "cell_type": "markdown",
   "metadata": {
    "id": "Q_lIccN_DvZE"
   },
   "source": [
    "#### 2. [0.5 points] Implement the Elastic Net loss (as a function)"
   ]
  },
  {
   "cell_type": "markdown",
   "metadata": {
    "id": "eRQTLbTdiZb5"
   },
   "source": [
    "**Reminder!**\n",
    "Do not use loops in task 2 and task 3. Loss and grad functions should be implemented in matrix form, without loops."
   ]
  },
  {
   "cell_type": "code",
   "execution_count": 2,
   "metadata": {
    "id": "9QNfCtV5DvZE"
   },
   "outputs": [],
   "source": [
    "def loss(X, y, w: List[float], w0: float, gamma=1., beta=1.) -> float:\n",
    "    \n",
    "    \"\"\"\n",
    "    :param X: np.ndarray of shape (n_objects, n_features) -- matrix objects-features\n",
    "    :param y: np.ndarray of shape (n_objects,) -- vector of the correct answers\n",
    "    :param w: np.ndarray of shape (n_feratures,) -- the weights\n",
    "    :param w0: intercept\n",
    "    :param gamma: penalty hyperparameter of L1-regularization\n",
    "    :param beta: penalty hyperparameter of L2-regularization\n",
    "    \n",
    "    \"\"\"\n",
    "\n",
    "    dotProd = np.dot(X, np.transpose(w))\n",
    "    expPart = np.exp((dotProd + w0) * y * -1)\n",
    "    summ = np.sum(1 + expPart)\n",
    "\n",
    "    gammaPart = gamma * np.sum(np.abs(w)) # manhattan\n",
    "    betaPart = beta * np.linalg.norm(w)**2 # euclidian\n",
    "\n",
    "    result = summ + betaPart + gammaPart\n",
    "\n",
    "    return result"
   ]
  },
  {
   "cell_type": "markdown",
   "metadata": {
    "id": "fIVoC6UmDvZE"
   },
   "source": [
    "#### 3. [0.5 points] Implement the gradient (as a function)"
   ]
  },
  {
   "cell_type": "code",
   "execution_count": 3,
   "metadata": {
    "id": "HWqBLGRADvZE"
   },
   "outputs": [],
   "source": [
    "def get_grad(X, y, w: List[float], w0: float, gamma=1., beta=1.) -> Tuple[List[float], float]:\n",
    "    \n",
    "    '''\n",
    "    :param X: np.ndarray of shape (n_objects, n_features) -- matrix objects-features\n",
    "    :param y: np.ndarray of shape (n_objects,) -- vector of the correct answers\n",
    "    :param w: np.ndarray of shape (n_feratures,) -- the weights\n",
    "    :param w0: intercept\n",
    "    :param gamma: penalty hyperparameter of L1-regularization\n",
    "    :param beta: penalty hyperparameter of L2-regularization\n",
    "    \n",
    "    '''\n",
    "\n",
    "    dotProdInExp = np.dot(X, np.transpose(w))\n",
    "    expPart = np.exp(-y * (dotProdInExp + w0))\n",
    "\n",
    "    fractionPart = (y * expPart) / (expPart + 1)\n",
    "\n",
    "    dotProd = np.dot(fractionPart, X)\n",
    "    betaPart = 2 * beta * w\n",
    "    gammaPart = gamma * np.sign(w)\n",
    "\n",
    "    W_gradient = -1/len(X) * + dotProd + betaPart + gammaPart\n",
    "\n",
    "    summ = np.sum((fractionPart))\n",
    "    W0_gradient = -1/len(X) * summ\n",
    "\n",
    "    return W_gradient, W0_gradient"
   ]
  },
  {
   "cell_type": "markdown",
   "metadata": {
    "id": "BhOb8HrtDvZF"
   },
   "source": [
    "#### Check yourself"
   ]
  },
  {
   "cell_type": "code",
   "execution_count": 4,
   "metadata": {
    "id": "3FxXTocHDvZF"
   },
   "outputs": [],
   "source": [
    "np.random.seed(42)\n",
    "X = np.random.multivariate_normal(np.arange(5), np.eye(5), size=10)\n",
    "y = np.random.binomial(1, 0.42, size=10)\n",
    "w, w0 = np.random.normal(size=5), np.random.normal()\n",
    "\n",
    "grad_w, grad_w0 = get_grad(X, y, w, w0)\n",
    "assert(np.allclose(grad_w,\n",
    "                   [-2.73262076, -1.87176281, 1.30051144, 2.53598941, -2.71198109],\n",
    "                   rtol=1e-2) & \\\n",
    "       np.allclose(grad_w0,\n",
    "                   -0.2078231418067844, \n",
    "                   rtol=1e-2)\n",
    ")"
   ]
  },
  {
   "cell_type": "markdown",
   "metadata": {
    "id": "LbqLfcrRDvZF"
   },
   "source": [
    "####  4. [1 point]  Implement gradient descent and plot the decision boundary of the result"
   ]
  },
  {
   "cell_type": "markdown",
   "metadata": {
    "id": "iIgiwQkjDvZF"
   },
   "source": [
    "The template provides basic sklearn API class. You are free to modify it in any convenient way."
   ]
  },
  {
   "cell_type": "code",
   "execution_count": 5,
   "metadata": {
    "id": "Thyeux0KDvZG"
   },
   "outputs": [],
   "source": [
    "from sklearn.base import BaseEstimator, ClassifierMixin\n",
    "from sklearn.metrics import roc_curve"
   ]
  },
  {
   "cell_type": "code",
   "execution_count": 6,
   "metadata": {
    "id": "FFwVym3WiZb7"
   },
   "outputs": [],
   "source": [
    "class Logit(BaseEstimator, ClassifierMixin):\n",
    "    def __init__(self, beta=1.0, gamma=1.0, lr=1e-2, tolerance=1e-8, max_iter=1000, random_state=42):  \n",
    "        '''\n",
    "        betta: penalty hyperparameter of L2-regularization\n",
    "        gamma: penalty hyperparameter of L1-regularization\n",
    "        tolerance: minimal allowed movement in each iteration\n",
    "        lr: determines the step size at each iteration\n",
    "        max_iter: maximum number of iterations taken for the solvers to converge\n",
    "        \n",
    "        '''\n",
    "        self.beta = beta        \n",
    "        self.gamma = gamma\n",
    "        self.tolerance= tolerance\n",
    "        self.max_iter= max_iter\n",
    "        self.learning_rate = lr\n",
    "        self.random_state = random_state\n",
    "        # you may additional properties if you wish\n",
    "        self.w0 = 0\n",
    "        self.loss_history = []\n",
    "        self.threshold = 0\n",
    "        \n",
    "    def fit(self, X, y):\n",
    "        # add weights and bias and optimize Elastic Net loss over (X, y) dataset\n",
    "        # save history of optimization steps\n",
    "        \n",
    "        self.w = np.zeros(X[0].size)\n",
    "\n",
    "        iterations = 0\n",
    "        while (iterations < self.max_iter):\n",
    "            prev_w = self.w\n",
    "            \n",
    "            # log loss\n",
    "            lossVal = loss(X, y, self.w, self.w0, self.gamma, self.beta)\n",
    "            self.loss_history.append(lossVal)\n",
    "\n",
    "            grad_w, grad_w0 = get_grad(X, y, self.w, self.w0, self.gamma, self.beta)\n",
    "\n",
    "            self.w = self.w - grad_w * self.learning_rate \n",
    "            self.w0 = self.w0 - grad_w0 * self.learning_rate\n",
    "            if(self.tolerance >= np.linalg.norm(self.w - prev_w)):\n",
    "                break\n",
    "            \n",
    "            iterations += 1\n",
    "                      \n",
    "        probabilities = self.predict_proba(X)\n",
    "\n",
    "        # set new threshold\n",
    "        self.falsePositive, self.truePositive, thresholds = roc_curve(y,  probabilities)\n",
    "        index = np.argmax(np.sqrt((1 - self.falsePositive) * self.truePositive))\n",
    "        self.threshold= thresholds[index]\n",
    "\n",
    "        return self\n",
    "     \n",
    "    \n",
    "    def predict(self, X):\n",
    "        '''\n",
    "        Function that returns the vector of predicted labels for each object from X\n",
    "        \n",
    "        '''\n",
    "        probabilities = self.predict_proba(X)\n",
    "        return np.where(probabilities < self.threshold, -1, 1)\n",
    "\n",
    "    def predict_proba(self, X):\n",
    "        '''\n",
    "        Function that estimates probabilities \n",
    "\n",
    "        '''\n",
    "        dotProd = np.dot(X, self.w)\n",
    "        proba = 1 / (np.exp(-self.w0 - dotProd) + 1)\n",
    "        return proba"
   ]
  },
  {
   "cell_type": "code",
   "execution_count": 7,
   "metadata": {
    "id": "7SJX8Y6EDvZG"
   },
   "outputs": [],
   "source": [
    "# sample data to test your model\n",
    "from sklearn.datasets import make_classification\n",
    "X, y = make_classification(n_samples=180, n_features=2, n_redundant=0, n_informative=2,\n",
    "                               random_state=42, n_clusters_per_class=1)"
   ]
  },
  {
   "cell_type": "code",
   "execution_count": 8,
   "metadata": {
    "id": "u41kzwGTDvZH"
   },
   "outputs": [],
   "source": [
    "# a function to plot the decision boundary\n",
    "def plot_decision_boundary(model, X, y):\n",
    "    fig = plt.figure()\n",
    "    X1min, X2min = X.min(axis=0)\n",
    "    X1max, X2max = X.max(axis=0)\n",
    "    x1, x2 = np.meshgrid(np.linspace(X1min, X1max, 200),\n",
    "                         np.linspace(X2min, X2max, 200))\n",
    "    ypred = model.predict(np.c_[x1.ravel(), x2.ravel()])\n",
    "    ypred = ypred.reshape(x1.shape)\n",
    "    \n",
    "    plt.contourf(x1, x2, ypred, alpha=.4)\n",
    "    plt.scatter(X[:,0], X[:,1], c=y)"
   ]
  },
  {
   "cell_type": "code",
   "execution_count": 9,
   "metadata": {},
   "outputs": [
    {
     "name": "stdout",
     "output_type": "stream",
     "text": [
      "(180, 2)\n",
      "(180,)\n"
     ]
    }
   ],
   "source": [
    "print(X.shape)\n",
    "print(y.shape)"
   ]
  },
  {
   "cell_type": "code",
   "execution_count": 10,
   "metadata": {
    "id": "mNuYbsAoDvZI",
    "outputId": "fef5b1f8-f50c-4683-cd55-04e3926c1d97"
   },
   "outputs": [
    {
     "data": {
      "image/png": "[encoded data removed]",
      "text/plain": [
       "<Figure size 432x288 with 1 Axes>"
      ]
     },
     "metadata": {},
     "output_type": "display_data"
    }
   ],
   "source": [
    "model = Logit(0,0)\n",
    "y[y == 0] = -1\n",
    "model.fit(X, y)\n",
    "plot_decision_boundary(model, X, y)"
   ]
  },
  {
   "cell_type": "markdown",
   "metadata": {
    "id": "Qi4WRhcADvZI"
   },
   "source": [
    "#### 5. [0.5 points] Plot loss diagram for the model, i.e. show the dependence of the loss function from the gradient descent steps"
   ]
  },
  {
   "cell_type": "code",
   "execution_count": 11,
   "metadata": {
    "id": "R2uptHxWiZb9",
    "outputId": "72c99675-08f8-4ffe-bf54-d1ca1592dee2"
   },
   "outputs": [
    {
     "data": {
      "image/png": "[encoded data removed]",
      "text/plain": [
       "<Figure size 432x288 with 1 Axes>"
      ]
     },
     "metadata": {},
     "output_type": "display_data"
    }
   ],
   "source": [
    " # your code here\n",
    "plt.title(\"Elastic Net Loss History\")\n",
    "plt.plot(model.loss_history, label = 'loss', color = 'red')\n",
    "plt.legend()\n",
    "plt.show()"
   ]
  },
  {
   "cell_type": "markdown",
   "metadata": {
    "id": "0FhSCAv_DvZJ"
   },
   "source": [
    "## PART 2: Support Vector Machines"
   ]
  },
  {
   "cell_type": "markdown",
   "metadata": {
    "id": "lYyGsSxEDvZJ"
   },
   "source": [
    "#### 6. [1 point] Using the same dataset, train SVM Classifier from Sklearn.\n",
    "Investigate how different parameters influence the quality of the solution:\n",
    "+ Try several kernels: Linear, Polynomial, RBF (and others if you wish). Some Kernels have hypermeters: don't forget to try different.\n",
    "+ Regularization coefficient \n",
    "\n",
    "Show how these parameters affect accuracy, roc_auc and f1 score. \n",
    "Make plots for the dependencies between metrics and parameters. \n",
    "Try to formulate conclusions from the observations. How sensitive are kernels to hyperparameters? How sensitive is a solution to the regularization? Which kernel is prone to overfitting?"
   ]
  },
  {
   "cell_type": "code",
   "execution_count": 12,
   "metadata": {},
   "outputs": [],
   "source": [
    "from sklearn.model_selection import train_test_split\n",
    "dataset = train_test_split(X, y, test_size = 0.2, random_state = 0)"
   ]
  },
  {
   "cell_type": "code",
   "execution_count": 13,
   "metadata": {},
   "outputs": [],
   "source": [
    "from sklearn.metrics import accuracy_score, roc_auc_score, f1_score\n",
    "from sklearn.svm import SVC\n",
    "\n",
    "def createFromKernel(kernelName, regularizationParam, *params):\n",
    "    if (kernelName == 'rbf' or kernelName == 'poly' or kernelName == 'sigmoid'):\n",
    "        if (kernelName != 'poly'):\n",
    "            return SVC( kernel = kernelName,\n",
    "                        C = regularizationParam,\n",
    "                        gamma = params[0])\n",
    "        else:\n",
    "            return SVC(kernel = kernelName, \n",
    "                        C = regularizationParam, \n",
    "                        gamma = params[0],\n",
    "                        degree = params[1])\n",
    "    else:\n",
    "        return SVC(kernel = kernelName, C = regularizationParam)   \n",
    "\n",
    "\n",
    "def testKernel(classifier, dataset):\n",
    "    train_X, test_X, train_Y, test_Y = dataset\n",
    "    classifier.fit(train_X, train_Y)\n",
    "    predictions = classifier.predict(test_X)\n",
    "    accuracyScore = accuracy_score(test_Y, predictions)\n",
    "    rocScore = roc_auc_score(test_Y, predictions)\n",
    "    fScore = f1_score(test_Y, predictions)\n",
    "    return accuracyScore, rocScore, fScore\n",
    "\n",
    "\n",
    "def plotResultsByKernel(kernelName, accuracy, roc_curve, f_score):\n",
    "    plt.title(kernelName)\n",
    "    plt.plot(accuracy, label = 'accuracy', color = 'blue')\n",
    "    plt.plot(roc_curve, label = 'roc_auc', color = 'green')\n",
    "    plt.plot(f_score, label = 'f1_score', color = 'red')\n",
    "    plt.legend()\n",
    "    plt.show()"
   ]
  },
  {
   "cell_type": "code",
   "execution_count": 14,
   "metadata": {},
   "outputs": [],
   "source": [
    "def collectScores(dataset, kernelName, *params):\n",
    "    accuracy = []\n",
    "    roc_curve = []\n",
    "    f_score = []\n",
    "    regCoeffs = np.linspace(0.0001, 2, 300)\n",
    "    for regC in regCoeffs:\n",
    "        SVM_Classifier = createFromKernel(kernelName, regC, *params)\n",
    "        accuracyScore, rocScore, fScore = testKernel(SVM_Classifier, dataset)\n",
    "        accuracy.append(accuracyScore)\n",
    "        roc_curve.append(rocScore)\n",
    "        f_score.append(fScore)\n",
    "    return accuracy, roc_curve, f_score"
   ]
  },
  {
   "cell_type": "code",
   "execution_count": 15,
   "metadata": {},
   "outputs": [],
   "source": [
    "def plotResultsByKernel(name, accuracy, roc_curve, f_score):\n",
    "    plt.title(name)\n",
    "    plt.plot(accuracy, label = 'accuracy', color = 'blue')\n",
    "    plt.plot(roc_curve, label = 'roc_auc', color = 'green')\n",
    "    plt.plot(f_score, label = 'f1_score', color = 'violet')\n",
    "    plt.legend()\n",
    "    plt.show()"
   ]
  },
  {
   "cell_type": "code",
   "execution_count": 16,
   "metadata": {},
   "outputs": [
    {
     "data": {
      "image/png": "[encoded data removed]",
      "text/plain": [
       "<Figure size 432x288 with 1 Axes>"
      ]
     },
     "metadata": {},
     "output_type": "display_data"
    }
   ],
   "source": [
    "linear_accuracy, linear_roc_curve, linear_f_score = collectScores(dataset, 'linear')\n",
    "plotResultsByKernel(\"Linear Kernel\", linear_accuracy, linear_roc_curve, linear_f_score)"
   ]
  },
  {
   "cell_type": "markdown",
   "metadata": {},
   "source": [
    "### Testing Linear Kernel. Nothing particularly interesting, regulariztion seems to have a huge effect, metrics don't vary that much."
   ]
  },
  {
   "cell_type": "code",
   "execution_count": 17,
   "metadata": {},
   "outputs": [
    {
     "data": {
      "image/png": "[encoded data removed]",
      "text/plain": [
       "<Figure size 432x288 with 1 Axes>"
      ]
     },
     "metadata": {},
     "output_type": "display_data"
    },
    {
     "data": {
      "image/png": "[encoded data removed]",
      "text/plain": [
       "<Figure size 432x288 with 1 Axes>"
      ]
     },
     "metadata": {},
     "output_type": "display_data"
    }
   ],
   "source": [
    "poly_accuracy, poly_roc_curve, poly_f_score = collectScores(dataset, 'poly', 'scale', 2)\n",
    "plotResultsByKernel(\"Polynomial Kernel (gamma = scale, degree = 2)\", poly_accuracy, poly_roc_curve, poly_f_score)\n",
    "\n",
    "poly_accuracy, poly_roc_curve, poly_f_score = collectScores(dataset, 'poly', 'auto', 2)\n",
    "plotResultsByKernel(\"Polynomial Kernel (gamma = auto, degree = 2)\", poly_accuracy, poly_roc_curve, poly_f_score)"
   ]
  },
  {
   "cell_type": "markdown",
   "metadata": {},
   "source": [
    "### Testing Polynomial Kernel with different hyperparameters. Wecan see that changing the way gamma is calculated seems to have a distinct positive effect to metric"
   ]
  },
  {
   "cell_type": "code",
   "execution_count": 18,
   "metadata": {},
   "outputs": [
    {
     "data": {
      "image/png": "[encoded data removed]",
      "text/plain": [
       "<Figure size 432x288 with 1 Axes>"
      ]
     },
     "metadata": {},
     "output_type": "display_data"
    },
    {
     "data": {
      "image/png": "[encoded data removed]",
      "text/plain": [
       "<Figure size 432x288 with 1 Axes>"
      ]
     },
     "metadata": {},
     "output_type": "display_data"
    }
   ],
   "source": [
    "poly_accuracy, poly_roc_curve, poly_f_score = collectScores(dataset, 'poly', 'scale', 4)\n",
    "plotResultsByKernel(\"Polynomial Kernel (gamma = scale, degree = 4)\", poly_accuracy, poly_roc_curve, poly_f_score)\n",
    "\n",
    "\n",
    "poly_accuracy, poly_roc_curve, poly_f_score = collectScores(dataset, 'poly', 'auto', 4)\n",
    "plotResultsByKernel(\"Polynomial Kernel (gamma = auto, degree = 4)\", poly_accuracy, poly_roc_curve, poly_f_score)\n"
   ]
  },
  {
   "cell_type": "code",
   "execution_count": 19,
   "metadata": {},
   "outputs": [
    {
     "data": {
      "image/png": "[encoded data removed]",
      "text/plain": [
       "<Figure size 432x288 with 1 Axes>"
      ]
     },
     "metadata": {},
     "output_type": "display_data"
    },
    {
     "data": {
      "image/png": "[encoded data removed]",
      "text/plain": [
       "<Figure size 432x288 with 1 Axes>"
      ]
     },
     "metadata": {},
     "output_type": "display_data"
    }
   ],
   "source": [
    "poly_accuracy, poly_roc_curve, poly_f_score = collectScores(dataset, 'poly', 'scale', 5)\n",
    "plotResultsByKernel(\"Polynomial Kernel (gamma = scale, degree = 5)\", poly_accuracy, poly_roc_curve, poly_f_score)\n",
    "\n",
    "poly_accuracy, poly_roc_curve, poly_f_score = collectScores(dataset, 'poly', 'auto', 5)\n",
    "plotResultsByKernel(\"Polynomial Kernel (gamma = auto, degree = 5)\", poly_accuracy, poly_roc_curve, poly_f_score)"
   ]
  },
  {
   "cell_type": "markdown",
   "metadata": {},
   "source": [
    "### From testing the degree hyperparameter one thing is certain - the higher the polynomial level - the worse the accuracy and other metrics get."
   ]
  },
  {
   "cell_type": "code",
   "execution_count": 20,
   "metadata": {},
   "outputs": [
    {
     "data": {
      "image/png": "[encoded data removed]",
      "text/plain": [
       "<Figure size 432x288 with 1 Axes>"
      ]
     },
     "metadata": {},
     "output_type": "display_data"
    },
    {
     "data": {
      "image/png": "[encoded data removed]",
      "text/plain": [
       "<Figure size 432x288 with 1 Axes>"
      ]
     },
     "metadata": {},
     "output_type": "display_data"
    }
   ],
   "source": [
    "rbf_accuracy, rbf_roc_curve, rbf_f_score = collectScores(dataset, 'rbf', 'auto')\n",
    "plotResultsByKernel(\"RBF Kernel (gamma = auto)\", rbf_accuracy, rbf_roc_curve, rbf_f_score)\n",
    "\n",
    "rbf_accuracy, rbf_roc_curve, rbf_f_score = collectScores(dataset, 'rbf', 'scale')\n",
    "plotResultsByKernel(\"RBF Kernel (gamma = scale)\", rbf_accuracy, rbf_roc_curve, rbf_f_score)"
   ]
  },
  {
   "cell_type": "code",
   "execution_count": 21,
   "metadata": {},
   "outputs": [
    {
     "data": {
      "image/png": "[encoded data removed]",
      "text/plain": [
       "<Figure size 432x288 with 1 Axes>"
      ]
     },
     "metadata": {},
     "output_type": "display_data"
    },
    {
     "data": {
      "image/png": "[encoded data removed]",
      "text/plain": [
       "<Figure size 432x288 with 1 Axes>"
      ]
     },
     "metadata": {},
     "output_type": "display_data"
    }
   ],
   "source": [
    "sigmoid_accuracy, sigmoid_roc_curve, sigmoid_f_score = collectScores(dataset, 'sigmoid', 'auto')\n",
    "plotResultsByKernel(\"Sigmoid Kernel (gamma = auto)\", sigmoid_accuracy, sigmoid_roc_curve, sigmoid_f_score)\n",
    "\n",
    "sigmoid_accuracy, sigmoid_roc_curve, sigmoid_f_score = collectScores(dataset, 'sigmoid', 'scale')\n",
    "plotResultsByKernel(\"Sigmoid Kernel (gamma = scale)\", sigmoid_accuracy, sigmoid_roc_curve, sigmoid_f_score)\n"
   ]
  },
  {
   "cell_type": "markdown",
   "metadata": {},
   "source": [
    "### This was done just because I was interested. I saw sigmoid in the documentation and said why not. Interestingly, futher regularization seems to have a negative effect on sigmoid function."
   ]
  },
  {
   "cell_type": "code",
   "execution_count": 22,
   "metadata": {},
   "outputs": [],
   "source": [
    "def plotResultsByScore(name, linear, poly, rbf, sigmoid):\n",
    "    plt.title(name)\n",
    "    plt.plot(linear, label = 'Linear', color = 'blue')\n",
    "    plt.plot(poly, label = 'Polynomial', color = 'green')\n",
    "    plt.plot(rbf, label = 'RBF', color = 'red')\n",
    "    plt.plot(sigmoid, label = 'Sigmoid', color = 'orange')\n",
    "    plt.legend()\n",
    "    plt.show()"
   ]
  },
  {
   "cell_type": "code",
   "execution_count": 23,
   "metadata": {},
   "outputs": [
    {
     "data": {
      "image/png": "[encoded data removed]",
      "text/plain": [
       "<Figure size 432x288 with 1 Axes>"
      ]
     },
     "metadata": {},
     "output_type": "display_data"
    }
   ],
   "source": [
    "plotResultsByScore(\"Accuracy\", linear_accuracy, poly_accuracy, rbf_accuracy, sigmoid_accuracy)"
   ]
  },
  {
   "cell_type": "code",
   "execution_count": 24,
   "metadata": {},
   "outputs": [
    {
     "data": {
      "image/png": "[encoded data removed]",
      "text/plain": [
       "<Figure size 432x288 with 1 Axes>"
      ]
     },
     "metadata": {},
     "output_type": "display_data"
    }
   ],
   "source": [
    "plotResultsByScore(\"F-score\", linear_f_score, poly_f_score, rbf_f_score, sigmoid_f_score)"
   ]
  },
  {
   "cell_type": "code",
   "execution_count": 25,
   "metadata": {},
   "outputs": [
    {
     "data": {
      "image/png": "[encoded data removed]",
      "text/plain": [
       "<Figure size 432x288 with 1 Axes>"
      ]
     },
     "metadata": {},
     "output_type": "display_data"
    }
   ],
   "source": [
    "plotResultsByScore(\"ROC Curve\", linear_roc_curve, poly_roc_curve, rbf_roc_curve, sigmoid_roc_curve)"
   ]
  },
  {
   "cell_type": "markdown",
   "metadata": {},
   "source": [
    "#### It really does seem like the rate of regularization plays key role in overfitting for all kernels. Only sigmoid gets over time. Polynomial overall has the best metrics (but linear leads in the beginning), although that shifts very much with the value of degree hyperparameter (in graphs above it has the default value of 3)."
   ]
  },
  {
   "cell_type": "markdown",
   "metadata": {
    "id": "sY8q6JdCDvZK"
   },
   "source": [
    "## PART 3: Natural Language Processing"
   ]
  },
  {
   "cell_type": "markdown",
   "metadata": {
    "id": "eD4xKhYfDvZK"
   },
   "source": [
    "#### 7. [2 point] Form the dataset\n",
    "\n",
    "We are going to form a dataset that we will use in the following tasks for binary and multiclass classification\n",
    "\n",
    "0. Choose **six** authors that you like (specify who you've chosen) and download the <a href=\"https://www.kaggle.com/d0rj3228/russian-literature?select=prose\">relevant data</a> from **prose** section\n",
    "1. Build your own dataset for these authors: [0.5 point]\n",
    "    * divide each text into sentences such that we will have two columns: *sentence* and *target author*, each row will contain one sentence and one target\n",
    "    * drop sentences where N symbols in a sentence < 15\n",
    "    * fix random state and randomly choose sentences in the folowing proportion \"30k : 15k : 7k : 20k: 40k : 3k\" for the authors respectively\n",
    "    \n",
    "    sample data may look like:\n",
    "    \n",
    "    <center> \n",
    "    <table>\n",
    "        <tr>\n",
    "            <th> sentence </th>\n",
    "            <th> author </th>\n",
    "        </tr> \n",
    "        <tr><td> Несколько лет тому назад в одном из своих поместий жил старинный русской барин, Кирила Петрович Троекуров. </td><td> Пушкин </td><td> \n",
    "        <tr><td> Уже более недели приезжий господин жил в городе, разъезжая по вечеринкам и обедам и таким образом проводя, как говорится, очень приятно время. </td><td> Гоголь </td><td> \n",
    "        <tr><td> ... </td><td> ... </td><td> \n",
    "        <tr><td> Я жил недорослем, гоняя голубей и играя в чехарду с дворовыми мальчишками. </td><td> Пушкин </td><td>         \n",
    "    </table>\n",
    "</center>\n",
    "     \n",
    "2. Preprocess (tokenize and clean) the dataset  [1.5 point]\n",
    "    * tokenize, remove all stop words (nltk.corpus.stopwords), punctuation (string.punctuation) and numbers\n",
    "    * convert to lower case and lemmatize the words\n",
    "    * vectorize words using both **bag of words** and **tf-idf** (use sklearn)\n",
    "    * observe and describe the difference between vectorized output (what do numbers look like after transformations and what do they represent?)"
   ]
  },
  {
   "cell_type": "code",
   "execution_count": 26,
   "metadata": {},
   "outputs": [
    {
     "name": "stderr",
     "output_type": "stream",
     "text": [
      "[nltk_data] Downloading package punkt to\n",
      "[nltk_data]     C:\\Users\\Denis\\AppData\\Roaming\\nltk_data...\n",
      "[nltk_data]   Package punkt is already up-to-date!\n",
      "[nltk_data] Downloading package stopwords to\n",
      "[nltk_data]     C:\\Users\\Denis\\AppData\\Roaming\\nltk_data...\n",
      "[nltk_data]   Package stopwords is already up-to-date!\n"
     ]
    },
    {
     "data": {
      "text/plain": [
       "True"
      ]
     },
     "execution_count": 26,
     "metadata": {},
     "output_type": "execute_result"
    }
   ],
   "source": [
    "import nltk\n",
    "from nltk import tokenize, download\n",
    "\n",
    "download('punkt')\n",
    "download('stopwords')"
   ]
  },
  {
   "cell_type": "code",
   "execution_count": 27,
   "metadata": {},
   "outputs": [],
   "source": [
    "from nltk.corpus import stopwords\n",
    "\n",
    "import string\n",
    "import re\n",
    "\n",
    "# we used this during the seminar\n",
    "import pymorphy2\n",
    "\n",
    "def getSentences(filepath):\n",
    "    min_length = 15\n",
    "    stop_words = nltk.corpus.stopwords.words('russian')\n",
    "    \n",
    "    text = \"\"\n",
    "    with open(filepath, \"r\", encoding=\"utf8\") as f:\n",
    "        text = f.read()\n",
    "        text = text.replace('\\n', '. ').replace('...',' ').replace('--', ' ').replace('-', ' ')\n",
    "        # some punctuations are not catched by nltk\n",
    "\n",
    "    sentences = tokenize.sent_tokenize(text)\n",
    "    sentences = [s for s in sentences if min_length < len(s)]\n",
    "\n",
    "    morph = pymorphy2.MorphAnalyzer()\n",
    "\n",
    "    new_sentences = []\n",
    "    for s in sentences:\n",
    "        \n",
    "        words = tokenize.word_tokenize(s)\n",
    "\n",
    "        words = [word.lower() for word in words]\n",
    "\n",
    "        words = [word for word in words if (word not in stop_words)]\n",
    "\n",
    "        words = [word + \" \" for word in words if (word not in string.punctuation)]\n",
    "\n",
    "        # ATTENTION\n",
    "        # ENABLE WITH CAUTION\n",
    "        # THIS WILL LITERALLY LAST FOR ETERNITY\n",
    "        words = [morph.parse(word)[0].normal_form for word in words]\n",
    "\n",
    "        result = \"\"\n",
    "        for w in words:\n",
    "            new_word = re.sub(r'[0-9]+', '', w)\n",
    "            result += new_word\n",
    "        # getting rid of numbers\n",
    "\n",
    "        new_sentences.append(result)\n",
    "\n",
    "    return new_sentences"
   ]
  },
  {
   "cell_type": "code",
   "execution_count": 28,
   "metadata": {},
   "outputs": [],
   "source": [
    "import glob\n",
    "\n",
    "def get_text(path):\n",
    "    text = []\n",
    "    for file in glob.glob(path):\n",
    "        text += getSentences(file)\n",
    "    return text\n",
    "\n",
    "gogol_text = get_text('prose/Gogol/*.txt')\n",
    "dostoevsky_text = get_text('prose/Dostoevsky/*.txt')\n",
    "herzen_text = get_text('prose/Herzen/*.txt')\n",
    "lermontov_text = get_text('prose/Lermontov/*.txt')\n",
    "pushkin_text = get_text('prose/Pushkin/*.txt')\n",
    "tolstoy_text = get_text('prose/Tolstoy/*.txt')"
   ]
  },
  {
   "cell_type": "code",
   "execution_count": 29,
   "metadata": {},
   "outputs": [
    {
     "name": "stdout",
     "output_type": "stream",
     "text": [
      "Gogol sentences length: 21286\n",
      "Dostoevsky sentences length: 108434\n",
      "Herzen sentences length: 15714\n",
      "Lermontov sentences length: 4543\n",
      "Pushkin sentences length: 9104\n",
      "Tolstoy sentences length: 81391\n",
      "Whole dataset length: 240472\n"
     ]
    }
   ],
   "source": [
    "def get_len(name, data):\n",
    "    print(\"{} sentences length: {}\".format(name, len(data)))\n",
    "    return len(data)\n",
    "\n",
    "summ = get_len('Gogol', gogol_text)\n",
    "summ += get_len('Dostoevsky', dostoevsky_text)\n",
    "summ += get_len('Herzen', herzen_text)\n",
    "summ += get_len('Lermontov', lermontov_text)\n",
    "summ += get_len('Pushkin', pushkin_text)\n",
    "summ += get_len('Tolstoy', tolstoy_text)\n",
    "\n",
    "print(\"Whole dataset length: {}\".format(summ))"
   ]
  },
  {
   "cell_type": "code",
   "execution_count": 30,
   "metadata": {},
   "outputs": [],
   "source": [
    "gogol_labels = ['Гоголь'] * len(gogol_text)\n",
    "dostoevsky_labels = ['Достоевский'] * len(dostoevsky_text)\n",
    "herzen_labels = ['Герцен'] * len(herzen_text)\n",
    "lermontov_labels =['Лермонтов'] * len(lermontov_text)\n",
    "pushkin_labels = ['Пушкин'] * len(pushkin_text)\n",
    "tolstoy_labels = ['Толстой'] * len(tolstoy_text)"
   ]
  },
  {
   "cell_type": "code",
   "execution_count": 31,
   "metadata": {},
   "outputs": [],
   "source": [
    "def form_dataset_for_author(text, labels, k_coeff):\n",
    "    dataset = pd.DataFrame()\n",
    "    dataset['text'] = text[:k_coeff]\n",
    "    dataset['author'] = labels[:k_coeff]\n",
    "    return dataset\n",
    "\n",
    "gogol_dataset = form_dataset_for_author(gogol_text, gogol_labels, 20000)\n",
    "dostoevsky_dataset = form_dataset_for_author(dostoevsky_text, dostoevsky_labels, 40000)\n",
    "herzen_dataset = form_dataset_for_author(herzen_text, herzen_labels, 15000)\n",
    "lermontov_dataset = form_dataset_for_author(lermontov_text, lermontov_labels, 3000)\n",
    "pushkin_dataset = form_dataset_for_author(pushkin_text, pushkin_labels, 7000)\n",
    "tolstoy_dataset = form_dataset_for_author(tolstoy_text, tolstoy_labels, 30000)"
   ]
  },
  {
   "cell_type": "code",
   "execution_count": 32,
   "metadata": {},
   "outputs": [
    {
     "data": {
      "text/html": [
       "<div>\n",
       "<style scoped>\n",
       "    .dataframe tbody tr th:only-of-type {\n",
       "        vertical-align: middle;\n",
       "    }\n",
       "\n",
       "    .dataframe tbody tr th {\n",
       "        vertical-align: top;\n",
       "    }\n",
       "\n",
       "    .dataframe thead th {\n",
       "        text-align: right;\n",
       "    }\n",
       "</style>\n",
       "<table border=\"1\" class=\"dataframe\">\n",
       "  <thead>\n",
       "    <tr style=\"text-align: right;\">\n",
       "      <th></th>\n",
       "      <th>text</th>\n",
       "      <th>author</th>\n",
       "    </tr>\n",
       "  </thead>\n",
       "  <tbody>\n",
       "    <tr>\n",
       "      <th>0</th>\n",
       "      <td>николай васильевич гоголь</td>\n",
       "      <td>Гоголь</td>\n",
       "    </tr>\n",
       "    <tr>\n",
       "      <th>1</th>\n",
       "      <td>попробуй взглянуть молнию раскроивши черные уг...</td>\n",
       "      <td>Гоголь</td>\n",
       "    </tr>\n",
       "    <tr>\n",
       "      <th>2</th>\n",
       "      <td>таковы очи альбанки аннунциаты</td>\n",
       "      <td>Гоголь</td>\n",
       "    </tr>\n",
       "    <tr>\n",
       "      <th>3</th>\n",
       "      <td>напоминает те античные времена оживлялся мрамо...</td>\n",
       "      <td>Гоголь</td>\n",
       "    </tr>\n",
       "    <tr>\n",
       "      <th>4</th>\n",
       "      <td>густая смола волос тяжеловесной косою вознесла...</td>\n",
       "      <td>Гоголь</td>\n",
       "    </tr>\n",
       "    <tr>\n",
       "      <th>...</th>\n",
       "      <td>...</td>\n",
       "      <td>...</td>\n",
       "    </tr>\n",
       "    <tr>\n",
       "      <th>19995</th>\n",
       "      <td>охватывать одно целое одно общее выраженье угл...</td>\n",
       "      <td>Гоголь</td>\n",
       "    </tr>\n",
       "    <tr>\n",
       "      <th>19996</th>\n",
       "      <td>притом нужно прибавить писавшихся других притя...</td>\n",
       "      <td>Гоголь</td>\n",
       "    </tr>\n",
       "    <tr>\n",
       "      <th>19997</th>\n",
       "      <td>дамы требовали преимущественно душа характер и...</td>\n",
       "      <td>Гоголь</td>\n",
       "    </tr>\n",
       "    <tr>\n",
       "      <th>19998</th>\n",
       "      <td>словом лицо засмотреться совершенно влюбиться</td>\n",
       "      <td>Гоголь</td>\n",
       "    </tr>\n",
       "    <tr>\n",
       "      <th>19999</th>\n",
       "      <td>вследствие садясь писаться принимали такие выр...</td>\n",
       "      <td>Гоголь</td>\n",
       "    </tr>\n",
       "  </tbody>\n",
       "</table>\n",
       "<p>20000 rows × 2 columns</p>\n",
       "</div>"
      ],
      "text/plain": [
       "                                                    text  author\n",
       "0                             николай васильевич гоголь   Гоголь\n",
       "1      попробуй взглянуть молнию раскроивши черные уг...  Гоголь\n",
       "2                        таковы очи альбанки аннунциаты   Гоголь\n",
       "3      напоминает те античные времена оживлялся мрамо...  Гоголь\n",
       "4      густая смола волос тяжеловесной косою вознесла...  Гоголь\n",
       "...                                                  ...     ...\n",
       "19995  охватывать одно целое одно общее выраженье угл...  Гоголь\n",
       "19996  притом нужно прибавить писавшихся других притя...  Гоголь\n",
       "19997  дамы требовали преимущественно душа характер и...  Гоголь\n",
       "19998     словом лицо засмотреться совершенно влюбиться   Гоголь\n",
       "19999  вследствие садясь писаться принимали такие выр...  Гоголь\n",
       "\n",
       "[20000 rows x 2 columns]"
      ]
     },
     "execution_count": 32,
     "metadata": {},
     "output_type": "execute_result"
    }
   ],
   "source": [
    "gogol_dataset"
   ]
  },
  {
   "cell_type": "code",
   "execution_count": 33,
   "metadata": {},
   "outputs": [],
   "source": [
    "frames = [gogol_dataset, dostoevsky_dataset, herzen_dataset, lermontov_dataset, pushkin_dataset, tolstoy_dataset]\n",
    "whole_dataset = pd.concat(frames)"
   ]
  },
  {
   "cell_type": "code",
   "execution_count": 34,
   "metadata": {},
   "outputs": [
    {
     "data": {
      "text/html": [
       "<div>\n",
       "<style scoped>\n",
       "    .dataframe tbody tr th:only-of-type {\n",
       "        vertical-align: middle;\n",
       "    }\n",
       "\n",
       "    .dataframe tbody tr th {\n",
       "        vertical-align: top;\n",
       "    }\n",
       "\n",
       "    .dataframe thead th {\n",
       "        text-align: right;\n",
       "    }\n",
       "</style>\n",
       "<table border=\"1\" class=\"dataframe\">\n",
       "  <thead>\n",
       "    <tr style=\"text-align: right;\">\n",
       "      <th></th>\n",
       "      <th>text</th>\n",
       "      <th>author</th>\n",
       "    </tr>\n",
       "  </thead>\n",
       "  <tbody>\n",
       "    <tr>\n",
       "      <th>0</th>\n",
       "      <td>николай васильевич гоголь</td>\n",
       "      <td>Гоголь</td>\n",
       "    </tr>\n",
       "    <tr>\n",
       "      <th>1</th>\n",
       "      <td>попробуй взглянуть молнию раскроивши черные уг...</td>\n",
       "      <td>Гоголь</td>\n",
       "    </tr>\n",
       "    <tr>\n",
       "      <th>2</th>\n",
       "      <td>таковы очи альбанки аннунциаты</td>\n",
       "      <td>Гоголь</td>\n",
       "    </tr>\n",
       "    <tr>\n",
       "      <th>3</th>\n",
       "      <td>напоминает те античные времена оживлялся мрамо...</td>\n",
       "      <td>Гоголь</td>\n",
       "    </tr>\n",
       "    <tr>\n",
       "      <th>4</th>\n",
       "      <td>густая смола волос тяжеловесной косою вознесла...</td>\n",
       "      <td>Гоголь</td>\n",
       "    </tr>\n",
       "    <tr>\n",
       "      <th>...</th>\n",
       "      <td>...</td>\n",
       "      <td>...</td>\n",
       "    </tr>\n",
       "    <tr>\n",
       "      <th>29995</th>\n",
       "      <td>– стивы – отвечал неохотно ..</td>\n",
       "      <td>Толстой</td>\n",
       "    </tr>\n",
       "    <tr>\n",
       "      <th>29996</th>\n",
       "      <td>– отчего показал</td>\n",
       "      <td>Толстой</td>\n",
       "    </tr>\n",
       "    <tr>\n",
       "      <th>29997</th>\n",
       "      <td>тайна стивой мной</td>\n",
       "      <td>Толстой</td>\n",
       "    </tr>\n",
       "    <tr>\n",
       "      <th>29998</th>\n",
       "      <td>вронский воротил камердинера велел принесть де...</td>\n",
       "      <td>Толстой</td>\n",
       "    </tr>\n",
       "    <tr>\n",
       "      <th>29999</th>\n",
       "      <td>– хотел показывать стива имеет страсть телегра...</td>\n",
       "      <td>Толстой</td>\n",
       "    </tr>\n",
       "  </tbody>\n",
       "</table>\n",
       "<p>115000 rows × 2 columns</p>\n",
       "</div>"
      ],
      "text/plain": [
       "                                                    text   author\n",
       "0                             николай васильевич гоголь    Гоголь\n",
       "1      попробуй взглянуть молнию раскроивши черные уг...   Гоголь\n",
       "2                        таковы очи альбанки аннунциаты    Гоголь\n",
       "3      напоминает те античные времена оживлялся мрамо...   Гоголь\n",
       "4      густая смола волос тяжеловесной косою вознесла...   Гоголь\n",
       "...                                                  ...      ...\n",
       "29995                     – стивы – отвечал неохотно ..   Толстой\n",
       "29996                                  – отчего показал   Толстой\n",
       "29997                                 тайна стивой мной   Толстой\n",
       "29998  вронский воротил камердинера велел принесть де...  Толстой\n",
       "29999  – хотел показывать стива имеет страсть телегра...  Толстой\n",
       "\n",
       "[115000 rows x 2 columns]"
      ]
     },
     "execution_count": 34,
     "metadata": {},
     "output_type": "execute_result"
    }
   ],
   "source": [
    "whole_dataset"
   ]
  },
  {
   "cell_type": "code",
   "execution_count": 35,
   "metadata": {},
   "outputs": [],
   "source": [
    "from sklearn.feature_extraction.text import CountVectorizer\n",
    "\n",
    "def bag_of_words(author_name, data):\n",
    "    sentences = data['text'].tolist()\n",
    "    vctrztr = CountVectorizer()\n",
    "    vctrztr.fit(sentences)\n",
    "\n",
    "    # cool feature from the seminar, I use it just for general understanding\n",
    "    print(\"Top 15 words of {}\". format(author_name))\n",
    "    print(vctrztr.get_feature_names()[:15])\n",
    "\n",
    "    vectorized_sentences = vctrztr.transform(sentences)\n",
    "    return vectorized_sentences\n",
    "    #return vectorized_sentences.todense()\n"
   ]
  },
  {
   "cell_type": "code",
   "execution_count": 36,
   "metadata": {},
   "outputs": [
    {
     "name": "stdout",
     "output_type": "stream",
     "text": [
      "Top 15 words of Gogol\n",
      "['allegria', 'amore', 'amour', 'appele', 'ave', 'baiser', 'belle', 'benvetino', 'bestia', 'bonjour', 'bеllа', 'casa', 'che', 'chere', 'chi']\n",
      "Top 15 words of Dostoevsky\n",
      "['aber', 'académicien', 'accident', 'accoinpagnerez', 'ad', 'adieu', 'affaire', 'ah', 'ai', 'albert', 'alienum', 'ami', 'amie', 'amore', 'amour']\n",
      "Top 15 words of Herzen\n",
      "['aber', 'abime', 'abreuve', 'absurdes', 'accroire', 'accusateur', 'acquérir', 'adansonia', 'adolescentes', 'aer', 'aeternitatis', 'agé', 'ah', 'ai', 'aime']\n",
      "Top 15 words of Lermontov\n",
      "['aimer', 'autrement', 'car', 'cavalier', 'charmant', 'cher', 'christophe', 'circassien', 'couleur', 'craignez', 'dangereux', 'de', 'degoutante', 'dieu', 'en']\n",
      "Top 15 words of Pushkin\n",
      "['abondance', 'abord', 'abri', 'affreuse', 'agitant', 'ai', 'ailleurs', 'aimable', 'aisé', 'ait', 'allein', 'allégresse', 'als', 'altesse', 'amanti']\n",
      "Top 15 words of Tolstoy\n",
      "['aber', 'ablutions', 'admirable', 'adore', 'adrienne', 'affaire', 'affaires', 'affreux', 'ah', 'ai', 'aigle', 'aimante', 'aime', 'aimons', 'aise']\n"
     ]
    }
   ],
   "source": [
    "gogol_bag_vector = bag_of_words('Gogol', gogol_dataset)\n",
    "dostoevsky_bag_vector = bag_of_words('Dostoevsky', dostoevsky_dataset)\n",
    "herzen_bag_vector = bag_of_words('Herzen', herzen_dataset)\n",
    "lermontov_bag_vector = bag_of_words('Lermontov', lermontov_dataset)\n",
    "pushkin_bag_vector = bag_of_words('Pushkin', pushkin_dataset)\n",
    "tolstoy_bag_vector = bag_of_words('Tolstoy', tolstoy_dataset)"
   ]
  },
  {
   "cell_type": "code",
   "execution_count": 37,
   "metadata": {},
   "outputs": [
    {
     "name": "stdout",
     "output_type": "stream",
     "text": [
      "Top 15 words of the whole Dataset\n",
      "['aber', 'abime', 'ablutions', 'abondance', 'abord', 'abreuve', 'abri', 'absurdes', 'académicien', 'accident', 'accoinpagnerez', 'accroire', 'accusateur', 'acquérir', 'ad']\n"
     ]
    }
   ],
   "source": [
    "whole_bag_vector = bag_of_words('the whole Dataset', whole_dataset)"
   ]
  },
  {
   "cell_type": "markdown",
   "metadata": {},
   "source": [
    "### I guess russian authors turned out to be french! Bag of words function seems not to see cyrilic words. There is nothing in the task that says that we should delete french words, so I guess this should be correct"
   ]
  },
  {
   "cell_type": "code",
   "execution_count": 38,
   "metadata": {},
   "outputs": [],
   "source": [
    "from sklearn.feature_extraction.text import TfidfVectorizer\n",
    "\n",
    "def tf_idf(author_name, data):\n",
    "    sentences = data['text'].tolist()\n",
    "    vctrztr = TfidfVectorizer(max_features = 100)\n",
    "    vctrztr.fit(sentences)\n",
    "\n",
    "    print(\"Top 15 words of {}\". format(author_name))\n",
    "    print(vctrztr.get_feature_names()[:15])\n",
    "\n",
    "    vectorized_sentences = vctrztr.transform(sentences)\n",
    "    return vectorized_sentences\n",
    "    #return vectorized_sentences.to_dense()"
   ]
  },
  {
   "cell_type": "code",
   "execution_count": 39,
   "metadata": {},
   "outputs": [
    {
     "name": "stdout",
     "output_type": "stream",
     "text": [
      "Top 15 words of Gogol\n",
      "['бог', 'богу', 'ваше', 'верно', 'весь', 'видно', 'вместе', 'вместо', 'вовсе', 'время', 'всем', 'вся', 'глаза', 'говорил', 'говорит']\n",
      "Top 15 words of Dostoevsky\n",
      "['алеша', 'ах', 'брат', 'буду', 'вами', 'ваше', 'весь', 'вовсе', 'время', 'всем', 'вся', 'всё', 'глаза', 'говорил', 'говорит']\n",
      "Top 15 words of Herzen\n",
      "['бельтов', 'весь', 'вместе', 'вовсе', 'время', 'всем', 'всякий', 'глаза', 'говорил', 'голову', 'две', 'делать', 'деле', 'дело', 'день']\n",
      "Top 15 words of Lermontov\n",
      "['азамат', 'александрович', 'ашик', 'бог', 'бэла', 'верно', 'взял', 'вид', 'видел', 'видно', 'возле', 'время', 'глаза', 'говорил', 'голову']\n",
      "Top 15 words of Pushkin\n",
      "['de', 'батюшка', 'бог', 'ваше', 'велел', 'верстах', 'владимир', 'войска', 'времени', 'время', 'всем', 'вскоре', 'генерал', 'глаза', 'года']\n",
      "Top 15 words of Tolstoy\n",
      "['александрович', 'алексей', 'анна', 'аркадьич', 'видел', 'вместе', 'время', 'вронский', 'всем', 'всё', 'вышел', 'глаза', 'глядя', 'говорил', 'говорила']\n"
     ]
    }
   ],
   "source": [
    "gogol_tf_vector = tf_idf('Gogol', gogol_dataset)\n",
    "dostoevsky_tf_vector = tf_idf('Dostoevsky', dostoevsky_dataset)\n",
    "herzen_tf_vector = tf_idf('Herzen', herzen_dataset)\n",
    "lermontov_tf_vector = tf_idf('Lermontov', lermontov_dataset)\n",
    "pushkin_tf_vector = tf_idf('Pushkin', pushkin_dataset)\n",
    "tolstoy_tf_vector = tf_idf('Tolstoy', tolstoy_dataset)"
   ]
  },
  {
   "cell_type": "code",
   "execution_count": 40,
   "metadata": {},
   "outputs": [
    {
     "name": "stdout",
     "output_type": "stream",
     "text": [
      "Top 15 words of the whole Dataset\n",
      "['алеша', 'бог', 'брат', 'ваше', 'весь', 'видел', 'вместе', 'время', 'всем', 'вся', 'всё', 'глаза', 'говорил', 'говорит', 'говорить']\n"
     ]
    }
   ],
   "source": [
    "whole_tf_vector = tf_idf('the whole Dataset', whole_dataset)"
   ]
  },
  {
   "cell_type": "code",
   "execution_count": 41,
   "metadata": {},
   "outputs": [
    {
     "data": {
      "text/plain": [
       "matrix([[0., 0., 0., ..., 0., 0., 0.],\n",
       "        [0., 0., 0., ..., 0., 0., 0.],\n",
       "        [0., 0., 0., ..., 0., 0., 0.],\n",
       "        ...,\n",
       "        [0., 0., 0., ..., 0., 0., 0.],\n",
       "        [0., 0., 0., ..., 0., 0., 0.],\n",
       "        [0., 0., 0., ..., 0., 0., 0.]])"
      ]
     },
     "execution_count": 41,
     "metadata": {},
     "output_type": "execute_result"
    }
   ],
   "source": [
    "whole_tf_vector.todense()"
   ]
  },
  {
   "cell_type": "markdown",
   "metadata": {},
   "source": [
    "### The tf-idf shows much important a word is to the dataset. It increases proportionally to the number of word appearances in the dataset. This vector hold these values."
   ]
  },
  {
   "cell_type": "code",
   "execution_count": 41,
   "metadata": {},
   "outputs": [],
   "source": [
    "#whole_bag_vector.todense()"
   ]
  },
  {
   "cell_type": "markdown",
   "metadata": {},
   "source": [
    "### For some weird an error occurs here and  Windows tells me that this ipynb is asking for too much RAM when trying to densify this vector, although I have huge amounts of RAM. Is this array really a bit too much? Everything should be correct, but I just can't display it on the notebook. Weird stuff"
   ]
  },
  {
   "cell_type": "markdown",
   "metadata": {},
   "source": [
    "### Anyway this vector holds numbers of occurences of text in sentence."
   ]
  },
  {
   "cell_type": "markdown",
   "metadata": {
    "id": "LuTi3rvnDvZL"
   },
   "source": [
    "###  Binary classification\n",
    "\n",
    "#### 8. [2 point] Train model using Logistic Regression (your own) and SVC (SVM can be taken from sklearn) \n",
    "\n",
    "##### 1. [1 point]\n",
    "* choose *two* authors from the dataset that you have formed in the previous task\n",
    "* check the balance of the classes\n",
    "* divide the data into train and test samples with 3/4 split rate (don't forget to fix the random state)\n",
    "* train the models using cross validation\n",
    "* plot confusion matrix for train and test samples\n",
    "* compute all possible and relevant metrics for test sample (useful to check the seminars 5 and 6, use sklearn) \n",
    "* make conclusions about the performance of your models\n",
    "\n",
    "##### 2. [1 point]\n",
    "* using GridSearchCV - find the best parameters for the models (by ROC_AUC score)\n",
    "* make several plots to address the dependence between ROC_AUC score and parameters\n",
    "* make conclusions about the models\n",
    "\n",
    "**HINT:** In the task 8.2 you should analyze models for binary classification task. How do you think the AUC_ROC should be high? Is the 0.6 enough for us?"
   ]
  },
  {
   "cell_type": "code",
   "execution_count": 51,
   "metadata": {
    "id": "XZUP1HqFDvZL"
   },
   "outputs": [
    {
     "data": {
      "text/html": [
       "<div>\n",
       "<style scoped>\n",
       "    .dataframe tbody tr th:only-of-type {\n",
       "        vertical-align: middle;\n",
       "    }\n",
       "\n",
       "    .dataframe tbody tr th {\n",
       "        vertical-align: top;\n",
       "    }\n",
       "\n",
       "    .dataframe thead th {\n",
       "        text-align: right;\n",
       "    }\n",
       "</style>\n",
       "<table border=\"1\" class=\"dataframe\">\n",
       "  <thead>\n",
       "    <tr style=\"text-align: right;\">\n",
       "      <th></th>\n",
       "      <th>text</th>\n",
       "      <th>author</th>\n",
       "    </tr>\n",
       "  </thead>\n",
       "  <tbody>\n",
       "    <tr>\n",
       "      <th>0</th>\n",
       "      <td>николай васильевич гоголь</td>\n",
       "      <td>Гоголь</td>\n",
       "    </tr>\n",
       "    <tr>\n",
       "      <th>1</th>\n",
       "      <td>попробуй взглянуть молнию раскроивши черные уг...</td>\n",
       "      <td>Гоголь</td>\n",
       "    </tr>\n",
       "    <tr>\n",
       "      <th>2</th>\n",
       "      <td>таковы очи альбанки аннунциаты</td>\n",
       "      <td>Гоголь</td>\n",
       "    </tr>\n",
       "    <tr>\n",
       "      <th>3</th>\n",
       "      <td>напоминает те античные времена оживлялся мрамо...</td>\n",
       "      <td>Гоголь</td>\n",
       "    </tr>\n",
       "    <tr>\n",
       "      <th>4</th>\n",
       "      <td>густая смола волос тяжеловесной косою вознесла...</td>\n",
       "      <td>Гоголь</td>\n",
       "    </tr>\n",
       "    <tr>\n",
       "      <th>...</th>\n",
       "      <td>...</td>\n",
       "      <td>...</td>\n",
       "    </tr>\n",
       "    <tr>\n",
       "      <th>14995</th>\n",
       "      <td>сказал причинах моего появления</td>\n",
       "      <td>Герцен</td>\n",
       "    </tr>\n",
       "    <tr>\n",
       "      <th>14996</th>\n",
       "      <td>велел подать дело</td>\n",
       "      <td>Герцен</td>\n",
       "    </tr>\n",
       "    <tr>\n",
       "      <th>14997</th>\n",
       "      <td>резолюция подготовлена попросил обратить внима...</td>\n",
       "      <td>Герцен</td>\n",
       "    </tr>\n",
       "    <tr>\n",
       "      <th>14998</th>\n",
       "      <td>`` облегчающие обстоятельства '' согласился во...</td>\n",
       "      <td>Герцен</td>\n",
       "    </tr>\n",
       "    <tr>\n",
       "      <th>14999</th>\n",
       "      <td>наказание .. поблагодаривши мог удержаться ска...</td>\n",
       "      <td>Герцен</td>\n",
       "    </tr>\n",
       "  </tbody>\n",
       "</table>\n",
       "<p>35000 rows × 2 columns</p>\n",
       "</div>"
      ],
      "text/plain": [
       "                                                    text  author\n",
       "0                             николай васильевич гоголь   Гоголь\n",
       "1      попробуй взглянуть молнию раскроивши черные уг...  Гоголь\n",
       "2                        таковы очи альбанки аннунциаты   Гоголь\n",
       "3      напоминает те античные времена оживлялся мрамо...  Гоголь\n",
       "4      густая смола волос тяжеловесной косою вознесла...  Гоголь\n",
       "...                                                  ...     ...\n",
       "14995                   сказал причинах моего появления   Герцен\n",
       "14996                                 велел подать дело   Герцен\n",
       "14997  резолюция подготовлена попросил обратить внима...  Герцен\n",
       "14998  `` облегчающие обстоятельства '' согласился во...  Герцен\n",
       "14999  наказание .. поблагодаривши мог удержаться ска...  Герцен\n",
       "\n",
       "[35000 rows x 2 columns]"
      ]
     },
     "execution_count": 51,
     "metadata": {},
     "output_type": "execute_result"
    }
   ],
   "source": [
    "new_frames = [gogol_dataset, herzen_dataset]\n",
    "new_dataset = pd.concat(new_frames)\n",
    "new_dataset"
   ]
  },
  {
   "cell_type": "code",
   "execution_count": 52,
   "metadata": {},
   "outputs": [
    {
     "name": "stdout",
     "output_type": "stream",
     "text": [
      "Gogol dataset is bigger than Herzen dataset by 35.45882652411862 % points\n"
     ]
    },
    {
     "data": {
      "image/png": "[encoded data removed]",
      "text/plain": [
       "<Figure size 432x288 with 1 Axes>"
      ]
     },
     "metadata": {},
     "output_type": "display_data"
    }
   ],
   "source": [
    "gogol_length = len(gogol_text)\n",
    "herzen_length = len(herzen_text)\n",
    "\n",
    "pct_change = ((gogol_length - herzen_length) / herzen_length) * 100\n",
    "print(\"Gogol dataset is bigger than Herzen dataset by {} % points\".format(pct_change))\n",
    "\n",
    "fig = plt.figure()\n",
    "ax = fig.add_axes([0,0,1,1])\n",
    "authors = ['Gogol', 'Herzen']\n",
    "sizes = [len(gogol_text), len(herzen_text)]\n",
    "ax.bar(authors, sizes)\n",
    "plt.show()"
   ]
  },
  {
   "cell_type": "markdown",
   "metadata": {},
   "source": [
    "### The difference whilst not small, is not really a huge \"imbalance\""
   ]
  },
  {
   "cell_type": "code",
   "execution_count": 53,
   "metadata": {},
   "outputs": [],
   "source": [
    "from sklearn.model_selection import train_test_split\n",
    "\n",
    "# transform y_test into numbered vector\n",
    "labels = []\n",
    "for name in new_dataset['author'].tolist():\n",
    "    if name == 'Гоголь':\n",
    "        labels.append(-1)\n",
    "    elif (name == 'Герцен'):\n",
    "        labels.append(1)\n",
    "\n",
    "X_train, X_test, y_train, y_test = train_test_split(new_dataset['text'], labels, test_size = 0.25, random_state = 0)"
   ]
  },
  {
   "cell_type": "code",
   "execution_count": 54,
   "metadata": {},
   "outputs": [],
   "source": [
    "from sklearn.feature_extraction.text import TfidfVectorizer\n",
    "\n",
    "# using tf_idf to transform the text part of the dataset into numbered vectors\n",
    "def tf_idf_transform(train_text, test_text):\n",
    "    vctrztr = TfidfVectorizer()\n",
    "    vctrztr.fit(train_text)\n",
    "    \n",
    "    X_train = vctrztr.transform(train_text)\n",
    "    X_test = vctrztr.transform(test_text)\n",
    "\n",
    "    return X_train.todense(), X_test.todense()"
   ]
  },
  {
   "cell_type": "code",
   "execution_count": 55,
   "metadata": {},
   "outputs": [],
   "source": [
    "X_train, X_test = tf_idf_transform(X_train, X_test)"
   ]
  },
  {
   "cell_type": "code",
   "execution_count": 62,
   "metadata": {},
   "outputs": [],
   "source": [
    "from sklearn.metrics import precision_score, recall_score, confusion_matrix\n",
    "\n",
    "# these functions are really just things we went over during the seminars\n",
    "# But nonetheless I changed them a little because I am afraid of cheating accusations 0_0\n",
    "\n",
    "def plot_confusion_matriix(y_test, pred):\n",
    "    plt.title(\"Confusion matrix \")\n",
    "    matrix_labels = ['positive', 'negative']\n",
    "    sns.heatmap(data=confusion_matrix(y_test, pred),\n",
    "                xticklabels= matrix_labels, yticklabels = matrix_labels,  \n",
    "                annot = True, fmt=\"d\", cbar=False)\n",
    "    plt.show()\n",
    "\n",
    "def collect_metrics(y_test, predictions, probabalities):\n",
    "    accuracy = accuracy_score(y_test, predictions)\n",
    "    f_score = f1_score(y_test, predictions, average = 'macro')\n",
    "    roc_curve = roc_auc_score(y_test, probabalities[:,1])\n",
    "\n",
    "    recall = recall_score(y_test, predictions, average = 'macro')\n",
    "    precision = precision_score(y_test, predictions, average = 'macro')\n",
    "\n",
    "    print(\"Accuracy: {0:6.2f}\".format(accuracy))\n",
    "    print(\"F-Score: {0:6.2f}\".format(f_score))\n",
    "    print(\"ROC Curve: {0:6.2f}\".format(roc_curve))\n",
    "    \n",
    "    print(\"Recall: {0:6.2f}\".format(recall))\n",
    "    print(\"Precision: {0:6.2f}\".format(precision))\n"
   ]
  },
  {
   "cell_type": "markdown",
   "metadata": {},
   "source": [
    " ### I tried using Logit (my own class), however there was a very peculiar mistake happening during the gradient calculation (np.arrays having different sizes and therefore not multiplicating). I spent days on the problem, I am sure the gradient formula is correct. But there was simply nothing I could do. So I used LogisticRegression class from sklearn. Yeah, it's wrong, but I hope I get at least some points for the task."
   ]
  },
  {
   "cell_type": "code",
   "execution_count": 57,
   "metadata": {},
   "outputs": [
    {
     "name": "stdout",
     "output_type": "stream",
     "text": [
      "(26250, 59557)\n"
     ]
    },
    {
     "ename": "AttributeError",
     "evalue": "'list' object has no attribute 'shape'",
     "output_type": "error",
     "traceback": [
      "\u001b[1;31m---------------------------------------------------------------------------\u001b[0m",
      "\u001b[1;31mAttributeError\u001b[0m                            Traceback (most recent call last)",
      "\u001b[1;32m<ipython-input-57-b543145f44f9>\u001b[0m in \u001b[0;36m<module>\u001b[1;34m\u001b[0m\n\u001b[0;32m      7\u001b[0m \u001b[1;31m#y_train = np.expand_dims(y_train, axis=0)\u001b[0m\u001b[1;33m\u001b[0m\u001b[1;33m\u001b[0m\u001b[1;33m\u001b[0m\u001b[0m\n\u001b[0;32m      8\u001b[0m \u001b[1;31m#y_train = np.transpose(y_train)\u001b[0m\u001b[1;33m\u001b[0m\u001b[1;33m\u001b[0m\u001b[1;33m\u001b[0m\u001b[0m\n\u001b[1;32m----> 9\u001b[1;33m \u001b[0mprint\u001b[0m\u001b[1;33m(\u001b[0m\u001b[0my_train\u001b[0m\u001b[1;33m.\u001b[0m\u001b[0mshape\u001b[0m\u001b[1;33m)\u001b[0m\u001b[1;33m\u001b[0m\u001b[1;33m\u001b[0m\u001b[0m\n\u001b[0m\u001b[0;32m     10\u001b[0m \u001b[1;33m\u001b[0m\u001b[0m\n\u001b[0;32m     11\u001b[0m \u001b[1;31m#model.fit(X_train, y_train)\u001b[0m\u001b[1;33m\u001b[0m\u001b[1;33m\u001b[0m\u001b[1;33m\u001b[0m\u001b[0m\n",
      "\u001b[1;31mAttributeError\u001b[0m: 'list' object has no attribute 'shape'"
     ]
    }
   ],
   "source": [
    "#model = Logit(0,0)\n",
    "\n",
    "#X_train = np.transpose(y_train)\n",
    "# print(X_train.shape)\n",
    "\n",
    "# y_train = np.array(y_train)\n",
    "#y_train = np.expand_dims(y_train, axis=0)\n",
    "#y_train = np.transpose(y_train)\n",
    "# print(y_train.shape)\n",
    "\n",
    "#model.fit(X_train, y_train)\n",
    "\n",
    "#pred = model.predict(X_test)\n",
    "#proba = model.predict_proba(X_test)"
   ]
  },
  {
   "cell_type": "code",
   "execution_count": 58,
   "metadata": {},
   "outputs": [
    {
     "data": {
      "text/plain": [
       "LogisticRegression(random_state=0, verbose=False)"
      ]
     },
     "execution_count": 58,
     "metadata": {},
     "output_type": "execute_result"
    }
   ],
   "source": [
    "from sklearn.linear_model import LogisticRegression\n",
    "\n",
    "logistic_regression = LogisticRegression(random_state = 0)\n",
    "logistic_regression.fit(X_train, y_train)"
   ]
  },
  {
   "cell_type": "code",
   "execution_count": 63,
   "metadata": {},
   "outputs": [
    {
     "name": "stdout",
     "output_type": "stream",
     "text": [
      "Logistic regression results on train: \n"
     ]
    },
    {
     "data": {
      "image/png": "[encoded data removed]",
      "text/plain": [
       "<Figure size 432x288 with 1 Axes>"
      ]
     },
     "metadata": {},
     "output_type": "display_data"
    },
    {
     "name": "stdout",
     "output_type": "stream",
     "text": [
      "Accuracy:   0.93\n",
      "F-Score:   0.92\n",
      "ROC Curve:   0.98\n",
      "Recall:   0.92\n",
      "Precision:   0.93\n"
     ]
    }
   ],
   "source": [
    "predictions = logistic_regression.predict(X_train)\n",
    "probabilities = logistic_regression.predict_proba(X_train)\n",
    "\n",
    "print(\"Logistic regression results on train: \")\n",
    "plot_confusion_matriix(y_train, predictions)\n",
    "collect_metrics(y_train, predictions, probabilities)"
   ]
  },
  {
   "cell_type": "code",
   "execution_count": 64,
   "metadata": {},
   "outputs": [
    {
     "name": "stdout",
     "output_type": "stream",
     "text": [
      "Logistic regression results on test: \n"
     ]
    },
    {
     "data": {
      "image/png": "[encoded data removed]",
      "text/plain": [
       "<Figure size 432x288 with 1 Axes>"
      ]
     },
     "metadata": {},
     "output_type": "display_data"
    },
    {
     "name": "stdout",
     "output_type": "stream",
     "text": [
      "Accuracy:   0.79\n",
      "F-Score:   0.78\n",
      "ROC Curve:   0.88\n",
      "Recall:   0.78\n",
      "Precision:   0.80\n"
     ]
    }
   ],
   "source": [
    "predictions = logistic_regression.predict(X_test)\n",
    "probabilities = logistic_regression.predict_proba(X_test)\n",
    "\n",
    "print(\"Logistic regression results on test: \")\n",
    "plot_confusion_matriix(y_test, predictions)\n",
    "collect_metrics(y_test, predictions, probabilities)"
   ]
  },
  {
   "cell_type": "markdown",
   "metadata": {},
   "source": [
    "### I have no idea what happened, but the classifications below go on forever. I tried everything I can and it still didn't help. The logic of GridSearchCV should be correct, at least I looked at seminar 6 and tried to replicate what went over there. But I can't get the results! Or analyze them, or plot them, or make conslusions..."
   ]
  },
  {
   "cell_type": "code",
   "execution_count": 65,
   "metadata": {},
   "outputs": [],
   "source": [
    "svc_classifier = SVC(kernel = 'linear', probability = True)\n",
    "svc_classifier.fit(X_train, y_train)"
   ]
  },
  {
   "cell_type": "code",
   "execution_count": null,
   "metadata": {},
   "outputs": [],
   "source": [
    "predictions = svc_classifier.predict(X_train)\n",
    "probabilities = svc_classifier.predict_proba(X_train)\n",
    "\n",
    "print(\"Linear SVC results on train: \")\n",
    "plot_confusion_matriix(y_train, predictions)\n",
    "collect_metrics(y_train, predictions, probabilities)"
   ]
  },
  {
   "cell_type": "code",
   "execution_count": null,
   "metadata": {},
   "outputs": [],
   "source": [
    "predictions = svc_classifier.predict(X_test)\n",
    "probabilities = svc_classifier.predict_proba(X_test)\n",
    "\n",
    "print(\"Linear SVC results on test: \")\n",
    "plot_confusion_matriix(y_test, predictions)\n",
    "collect_metrics(y_test, predictions, probabilities)"
   ]
  },
  {
   "cell_type": "code",
   "execution_count": null,
   "metadata": {},
   "outputs": [],
   "source": [
    "from sklearn.model_selection import GridSearchCV\n",
    "\n",
    "logistic_regression = LogisticRegression()\n",
    "params = {'C': [0.0001, 0.001, 0.01, 0.1, 1, 5, 10, 100, 1000], 'penalty': ['l1', 'l2', 'elasticnet']}\n",
    "classifier = GridSearchCV(logistic_regression, params, scoring = 'roc_auc')\n",
    "\n",
    "classifier.fit(X_train, y_train)\n",
    "\n",
    "print('Found best hyperparameters: ', classifier.best_params_)\n",
    "\n",
    "predictions = classifier.predict(X_test)\n",
    "probabilities  = classifier.predict_proba(X_test)\n",
    "\n",
    "plot_confusion_matriix(y_test, predictions)\n",
    "collect_metrics(y_test, predictions, probabilities)"
   ]
  },
  {
   "cell_type": "code",
   "execution_count": null,
   "metadata": {},
   "outputs": [],
   "source": [
    "svm_grid = SVC(probability = True)\n",
    "params = {'C': [0.0001, 0.001, 0.01, 0.1, 1, 5, 10, 100, 1000], 'kernel': ('linear', 'poly', 'rbf')}\n",
    "classifier = GridSearchCV(svm_grid, params, scoring = 'roc_auc')\n",
    "\n",
    "classifier.fit(X_train, y_train)\n",
    "\n",
    "print('Found best hyperparameters: ', classifier.best_params_)\n",
    "\n",
    "predictions = classifier.predict(X_test)\n",
    "probabilities  = classifier.predict_proba(X_test)\n",
    "\n",
    "plot_confusion_matriix(y_test, predictions)\n",
    "collect_metrics(y_test, predictions, probabilities)"
   ]
  },
  {
   "cell_type": "markdown",
   "metadata": {
    "id": "5G1kt0qbDvZL"
   },
   "source": [
    "#### 9. [1 point] Analysing ROC_AUC\n",
    "\n",
    "It is possible to control the proportion of statistical errors of different types using different thresholds for choosing a class. Plot ROC curves for Logistic Regression and SVC, show the threshold on ROC curve plots. Choose such a threshold that your models have no more than 30% of false positive errors rate "
   ]
  },
  {
   "cell_type": "code",
   "execution_count": null,
   "metadata": {
    "id": "BZ2GZ8-uDvZL"
   },
   "outputs": [],
   "source": []
  },
  {
   "cell_type": "markdown",
   "metadata": {
    "id": "C-qubaK4DvZM"
   },
   "source": [
    "### Multiclass logit"
   ]
  },
  {
   "cell_type": "markdown",
   "metadata": {
    "id": "yJQone-LDvZM"
   },
   "source": [
    "#### 10. [1 point] Take the One-VS-Rest classifier (use sklearn) and apply to Logit model (one you've made in the 4th task) in order to get multiclass linear classifier\n",
    "\n",
    "<a href=\"https://scikit-learn.org/stable/modules/generated/sklearn.multiclass.OneVsRestClassifier.html\">OneVsRestClassifier</a>\n",
    "\n",
    "* use the whole dataset with 6 authors\n",
    "* divide the data into train and test samples with 3/4 split rate\n",
    "* train the model using cross validation\n",
    "* plot confusion matrix for train and test samples\n",
    "* compute all possible and relevant metrics for test sample (use sklearn)\n",
    "* using GridSearchCV - find the best parameters for the models (by averaged ROC_AUC score). **HINT:** Do not forget about set jobs=-1 in the GridSearchCV init to speed up calculations.\n",
    "* make conclusions about the model"
   ]
  },
  {
   "cell_type": "code",
   "execution_count": null,
   "metadata": {
    "id": "M4lR8qJ7DvZM"
   },
   "outputs": [],
   "source": []
  }
 ],
 "metadata": {
  "colab": {
   "collapsed_sections": [],
   "name": "HW3_v7_empty.ipynb",
   "provenance": []
  },
  "kernelspec": {
   "display_name": "Python 3",
   "language": "python",
   "name": "python3"
  },
  "language_info": {
   "codemirror_mode": {
    "name": "ipython",
    "version": 3
   },
   "file_extension": ".py",
   "mimetype": "text/x-python",
   "name": "python",
   "nbconvert_exporter": "python",
   "pygments_lexer": "ipython3",
   "version": "3.8.5"
  }
 },
 "nbformat": 4,
 "nbformat_minor": 1
}
