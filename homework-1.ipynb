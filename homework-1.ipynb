{
 "cells": [
  {
   "cell_type": "markdown",
   "source": [
    "# HSE 2021: Mathematical Methods for Data Analysis\n",
    "\n",
    "## Homework 1"
   ],
   "metadata": {}
  },
  {
   "cell_type": "markdown",
   "source": [
    "### Attention!\n",
    "* For tasks where <ins>text answer</ins> is required **Russian language** is **allowed**.\n",
    "* If a task asks you to describe something (make coclusions) then **text answer** is **mandatory** and **is** part of the task\n",
    "* **Do not** upload the dataset (titanic.csv) to the grading system (we already have it)\n",
    "* We **only** accept **ipynb** notebooks. If you use Google Colab then you'll have to download the notebook before passing the homework\n",
    "* **Do not** use python loops instead of NumPy vector operations over NumPy vectors - it significantly decreases performance (see why https://blog.paperspace.com/numpy-optimization-vectorization-and-broadcasting/), will be punished with -0.25 for **every** task. \n",
    "Loops are only allowed in part 1 (Tasks 1 - 4). \n",
    "* Some tasks contain tests. They only test you solution on a simple example, thus, passing the test does **not** guarantee you the full grade for the task. "
   ],
   "metadata": {}
  },
  {
   "cell_type": "code",
   "execution_count": 123,
   "source": [
    "%matplotlib inline\r\n",
    "import numpy as np\r\n",
    "import pandas as pd\r\n",
    "import matplotlib.pyplot as plt\r\n",
    "import seaborn as sns"
   ],
   "outputs": [],
   "metadata": {}
  },
  {
   "cell_type": "markdown",
   "source": [
    "# 1. Python (2 points)"
   ],
   "metadata": {}
  },
  {
   "cell_type": "markdown",
   "source": [
    "**Task 1** (0.5 points)<br/> \n",
    "Enter numbers `a`,  `d` и `N`. Find sum of the first `N` members of arithmetic progression with the first member `a` and difference `d`, without using formula for the sum."
   ],
   "metadata": {}
  },
  {
   "cell_type": "code",
   "execution_count": 124,
   "source": [
    "def find_sum(a,d,N):\r\n",
    "    sum = 0\r\n",
    "    for n in range(N):\r\n",
    "        sum += a\r\n",
    "        a += d\r\n",
    "    return sum\r\n",
    "    ## Your code here"
   ],
   "outputs": [],
   "metadata": {}
  },
  {
   "cell_type": "markdown",
   "source": [
    "Check yourself"
   ],
   "metadata": {}
  },
  {
   "cell_type": "code",
   "execution_count": 125,
   "source": [
    "a = 2\r\n",
    "d = 3\r\n",
    "N = 15\r\n",
    "assert find_sum(a,d,N) == 345, 'Wrong answer'"
   ],
   "outputs": [],
   "metadata": {}
  },
  {
   "cell_type": "markdown",
   "source": [
    "---\n",
    "**Task 2** (0.5 points) <br/> \n",
    "Enter an integer number `N`. Check if it is a prime number."
   ],
   "metadata": {}
  },
  {
   "cell_type": "code",
   "execution_count": 126,
   "source": [
    "import math\r\n",
    "\r\n",
    "def check_prime(N):\r\n",
    "    for i in range(2, int(math.sqrt(N) + 1)):\r\n",
    "        if (N % i == 0):\r\n",
    "            return False\r\n",
    "    return True"
   ],
   "outputs": [],
   "metadata": {}
  },
  {
   "cell_type": "markdown",
   "source": [
    "Check yourself"
   ],
   "metadata": {}
  },
  {
   "cell_type": "code",
   "execution_count": 127,
   "source": [
    "inp = [3, 8, 13, 111, 113, 237, 307, 479, 481]\r\n",
    "answer = [True, False, True, False, True, False, True, True, False]\r\n",
    "\r\n",
    "for N, ans in zip(inp, answer):\r\n",
    "    assert check_prime(N) == ans, f'Wrong answer for input {N}, {ans} is expected'"
   ],
   "outputs": [],
   "metadata": {}
  },
  {
   "cell_type": "markdown",
   "source": [
    "---\n",
    "**Task 3** (0.5 points) <br/> \n",
    "Find the first `N` prime numbers (you may use the function from the previous task)."
   ],
   "metadata": {}
  },
  {
   "cell_type": "code",
   "execution_count": 128,
   "source": [
    "def find_primes(N):\r\n",
    "    ## Your code here\r\n",
    "    cnt = 0\r\n",
    "    primes = []\r\n",
    "\r\n",
    "    num = 2\r\n",
    "    while cnt != N:\r\n",
    "        if check_prime(num):\r\n",
    "            primes.append(num)\r\n",
    "            cnt += 1\r\n",
    "        num += 1\r\n",
    "\r\n",
    "    return primes"
   ],
   "outputs": [],
   "metadata": {}
  },
  {
   "cell_type": "markdown",
   "source": [
    "Check yourself"
   ],
   "metadata": {}
  },
  {
   "cell_type": "code",
   "execution_count": 129,
   "source": [
    "assert find_primes(5) == [2, 3, 5, 7, 11], 'Wrong answer'"
   ],
   "outputs": [],
   "metadata": {}
  },
  {
   "cell_type": "markdown",
   "source": [
    "---\n",
    "**Task 4** (0.5 points) <br/> \n",
    "There are numbers: `a`, `b`, `c`. Without using functions `min`, `max` or any other functions, find the maximum number."
   ],
   "metadata": {}
  },
  {
   "cell_type": "code",
   "execution_count": 130,
   "source": [
    "def find_max(a, b, c):\r\n",
    "    ## Your code here\r\n",
    "    if a > b: \r\n",
    "        if a > c:\r\n",
    "            return a\r\n",
    "        else:\r\n",
    "            return c\r\n",
    "    else: \r\n",
    "        if b > c:\r\n",
    "            return b\r\n",
    "        else:\r\n",
    "            return c"
   ],
   "outputs": [],
   "metadata": {}
  },
  {
   "cell_type": "markdown",
   "source": [
    "Check yourself"
   ],
   "metadata": {}
  },
  {
   "cell_type": "code",
   "execution_count": 131,
   "source": [
    "from random import randint\r\n",
    "for i in range(10):    \r\n",
    "    a = randint(-100, 100)\r\n",
    "    b = randint(-100, 100)\r\n",
    "    c = randint(-100, 100)\r\n",
    "    answer = np.max([a, b, c])  # You cannot use `np.max` in the solution ;)\r\n",
    "    print(f'Checking on {a, b, c}')\r\n",
    "    assert find_max(a, b, c) == answer, f'Wrong maximum, {answer} is expected'"
   ],
   "outputs": [
    {
     "output_type": "stream",
     "name": "stdout",
     "text": [
      "Checking on (-86, 48, -14)\n",
      "Checking on (-42, 52, -90)\n",
      "Checking on (-100, 15, -6)\n",
      "Checking on (41, 64, 6)\n",
      "Checking on (68, -37, -64)\n",
      "Checking on (-38, 50, -73)\n",
      "Checking on (14, 91, -54)\n",
      "Checking on (-24, 5, 2)\n",
      "Checking on (17, 21, 56)\n",
      "Checking on (2, -57, 5)\n"
     ]
    }
   ],
   "metadata": {}
  },
  {
   "cell_type": "markdown",
   "source": [
    "# 2. Numpy (4 points)\n",
    "### **!Do not use loops in the tasks below, see disclamer at the top of the notebook**"
   ],
   "metadata": {}
  },
  {
   "cell_type": "markdown",
   "source": [
    "**Task 1** (0.5 points) <br/>\n",
    "Create a random array (`np.random.rand()`) with length of 20 and with sum of its elements equals to 3."
   ],
   "metadata": {}
  },
  {
   "cell_type": "code",
   "execution_count": 132,
   "source": [
    "my_array = list(np.random.rand(1, 20)[0])\r\n",
    "my_array[19] = 3 - sum(my_array[:19])"
   ],
   "outputs": [],
   "metadata": {}
  },
  {
   "cell_type": "markdown",
   "source": [
    "Check yourself"
   ],
   "metadata": {}
  },
  {
   "cell_type": "code",
   "execution_count": 133,
   "source": [
    "assert len(my_array) == 20\r\n",
    "assert np.allclose(np.sum(my_array), 3)"
   ],
   "outputs": [],
   "metadata": {}
  },
  {
   "cell_type": "markdown",
   "source": [
    "---\n",
    "**Task 2** (0.5 points) <br/>\n",
    "Create two random arrays $a$ and $b$ with the same length. \n",
    "\n",
    "Calculate the following distances between the arrays **without using special functions. You may only use basic numpy operations (first level functions like `np.dot` are ok, higher level functions like `np.linalg.*` are prohibited).**:\n",
    "\n",
    "* Euclidean Distance\n",
    "$$ d(a, b) = \\sqrt{\\sum_i (a_i - b_i)^2} $$\n",
    "* Manhattan Distance\n",
    "$$ d(a, b) = \\sum_i |a_i - b_i| $$\n",
    "* Cosine Distance\n",
    "$$ d(a, b) = 1 - \\frac{a^\\top b}{||a||_2\\cdot||b||_2}, \\,\\, \\text{where}\\,\\, ||a||_2 = \\sqrt{\\sum_i a_i^2} $$"
   ],
   "metadata": {}
  },
  {
   "cell_type": "code",
   "execution_count": 134,
   "source": [
    "def cal_euclidean(a, b):\r\n",
    "    ## Your code here\r\n",
    "    return np.sqrt(np.sum(np.square(a - b)))\r\n",
    "    \r\n",
    "def cal_manhattan(a, b):  \r\n",
    "    ## Your code here\r\n",
    "    return np.sum(np.abs(a - b))\r\n",
    "\r\n",
    "def cal_cosine(a, b):    \r\n",
    "    ## Your code here\r\n",
    "    return 1 - np.transpose(a).dot(b) / (np.sqrt(np.sum(np.square(a))) * np.sqrt(np.sum(np.square(b))))"
   ],
   "outputs": [],
   "metadata": {}
  },
  {
   "cell_type": "markdown",
   "source": [
    "Check yourself"
   ],
   "metadata": {}
  },
  {
   "cell_type": "code",
   "execution_count": 135,
   "source": [
    "a = np.ones(10)*0.1\r\n",
    "b = np.ones(10)\r\n",
    "\r\n",
    "assert np.allclose(cal_euclidean(a, b), 2.846049)\r\n",
    "assert np.allclose(cal_manhattan(a, b), 9)\r\n",
    "assert np.allclose(cal_cosine(a, b), 0)"
   ],
   "outputs": [],
   "metadata": {}
  },
  {
   "cell_type": "markdown",
   "source": [
    "---\n",
    "**Task 3** (0.5 points) <br/>\n",
    "Create a function `custom_scaler`, which takes as input an array with integer values and transforms an array, so that:\n",
    "* Maximum element(s) value is 2 (it **doesn't** mean `a[max_index] = 2`)\n",
    "* Minimum element(s) value is -2 (it **doesn't** mean `a[min_index] = -2`)\n",
    "* Other values are in the interval [-2, 2] (using **arithmetic** transformations)"
   ],
   "metadata": {}
  },
  {
   "cell_type": "code",
   "execution_count": 136,
   "source": [
    "def custom_scaler(my_array):\r\n",
    "    ## Your code here\r\n",
    "    max = np.max(my_array)\r\n",
    "    min = np.min(my_array)\r\n",
    "    return ((my_array - min) / (max - min) * 2 - 1) * 2 "
   ],
   "outputs": [],
   "metadata": {}
  },
  {
   "cell_type": "markdown",
   "source": [
    "Check yourself"
   ],
   "metadata": {}
  },
  {
   "cell_type": "code",
   "execution_count": 137,
   "source": [
    "test_array = np.random.randint(-100, 100, size=4)\r\n",
    "result = custom_scaler(test_array)\r\n",
    "print(test_array, '->>', result)\r\n",
    "\r\n",
    "assert np.allclose(np.max(result), 2), f'Maximum value shoul be 2, got {np.max(result)} instead'\r\n",
    "assert np.allclose(np.min(result), -2), f'Minimum value should be -2, got {np.min(result)} instead'\r\n",
    "assert np.sum(result < -2) + np.sum(result > 2) == 0, 'All elements are supposed to be between -2 and 2'"
   ],
   "outputs": [
    {
     "output_type": "stream",
     "name": "stdout",
     "text": [
      "[-28  -5 -28 -61] ->> [ 0.35714286  2.          0.35714286 -2.        ]\n"
     ]
    }
   ],
   "metadata": {}
  },
  {
   "cell_type": "markdown",
   "source": [
    "---\n",
    "**Task 4** (0.5 points) <br/>\n",
    "Create an array with shape of $5 \\times 6$ with integers from [0,50]. Select a column which contains the maximum element of the array."
   ],
   "metadata": {}
  },
  {
   "cell_type": "code",
   "execution_count": 138,
   "source": [
    "my_array = np.random.randint(low = 0, high = 51, size = (5, 6))\r\n",
    "selected_column = my_array[:, np.where(my_array == np.amax(my_array))[0]]"
   ],
   "outputs": [],
   "metadata": {}
  },
  {
   "cell_type": "code",
   "execution_count": 139,
   "source": [
    "print(f'Array:\\n {my_array}')\r\n",
    "print(f'Shape: {my_array.shape}')\r\n",
    "print(f'Selected column {selected_column}')"
   ],
   "outputs": [
    {
     "output_type": "stream",
     "name": "stdout",
     "text": [
      "Array:\n",
      " [[34 12 25 43  4 43]\n",
      " [45 50 17 27  3 16]\n",
      " [48 12  8 14 38 41]\n",
      " [ 5 14 20 33  0 17]\n",
      " [39 29 24 35 20  1]]\n",
      "Shape: (5, 6)\n",
      "Selected column [[12]\n",
      " [50]\n",
      " [12]\n",
      " [14]\n",
      " [29]]\n"
     ]
    }
   ],
   "metadata": {}
  },
  {
   "cell_type": "markdown",
   "source": [
    "---\n",
    "**Task 5** (0.5 points) <br/>\n",
    "\n",
    "Replace all missing values in the following array with mean."
   ],
   "metadata": {}
  },
  {
   "cell_type": "code",
   "execution_count": 140,
   "source": [
    "arr = np.random.rand(10)\r\n",
    "idx = np.random.randint(0, 10, 4)\r\n",
    "arr[idx] = np.nan\r\n",
    "\r\n",
    "print(f'Given array: {np.array2string(arr, precision=2)}')"
   ],
   "outputs": [
    {
     "output_type": "stream",
     "name": "stdout",
     "text": [
      "Given array: [ nan 0.61 0.01  nan  nan 0.21 0.5  0.18 0.38  nan]\n"
     ]
    }
   ],
   "metadata": {}
  },
  {
   "cell_type": "code",
   "execution_count": 141,
   "source": [
    "arr[np.isnan(arr)] = np.nanmean(arr) \r\n",
    "\r\n",
    "print(f'Result: {np.array2string(arr, precision=2)}')"
   ],
   "outputs": [
    {
     "output_type": "stream",
     "name": "stdout",
     "text": [
      "Result: [0.31 0.61 0.01 0.31 0.31 0.21 0.5  0.18 0.38 0.31]\n"
     ]
    }
   ],
   "metadata": {}
  },
  {
   "cell_type": "markdown",
   "source": [
    "---\n",
    "**Task 6** (0.5 points) <br/>\n",
    "Create a function which takes an image ```X``` (3D array of the shape (n, m, 3)) as an input and returns the mean for each of 3 channels (a vector of shape 3)."
   ],
   "metadata": {}
  },
  {
   "cell_type": "code",
   "execution_count": 142,
   "source": [
    "def mean_channel(X):\r\n",
    "    x = X[::,0]\r\n",
    "    y = X[::,1]\r\n",
    "    z = X[::,2]\r\n",
    "    return np.mean(x), np.mean(y), np.mean(z)"
   ],
   "outputs": [],
   "metadata": {}
  },
  {
   "cell_type": "code",
   "execution_count": 143,
   "source": [
    "n = 28\r\n",
    "m = 16\r\n",
    "X =  np.random.randint(-10, 10, size=(n,m,3))\r\n",
    "mean_channel(X)"
   ],
   "outputs": [
    {
     "output_type": "execute_result",
     "data": {
      "text/plain": [
       "(-0.5833333333333334, 0.11904761904761904, -0.07142857142857142)"
      ]
     },
     "metadata": {},
     "execution_count": 143
    }
   ],
   "metadata": {}
  },
  {
   "cell_type": "markdown",
   "source": [
    "---\n",
    "**Task 7** (1 points) <br/>\n",
    "Create a function which takes a matrix ```X``` as an input and returns all its unique rows as a matrix, i.e. in a 3D matrix you need to return all unique horizontal layers.\n",
    "\n",
    "Sample input:\n",
    "\n",
    "     ([[[4, 4],\n",
    "        [5, 5]],\n",
    "\n",
    "       [[4, 5],\n",
    "        [5, 5]],\n",
    "\n",
    "       [[4, 4],\n",
    "        [5, 4]],\n",
    "\n",
    "       [[4, 5],\n",
    "        [5, 5]],\n",
    "\n",
    "       [[5, 4],\n",
    "        [4, 4]],\n",
    "\n",
    "       [[5, 5],\n",
    "        [4, 5]]])\n",
    "        \n",
    "Sample output:\n",
    "\n",
    "     ([[[4, 4],\n",
    "        [5, 5]],\n",
    "\n",
    "       [[4, 5],\n",
    "        [5, 5]],\n",
    "\n",
    "       [[4, 4],\n",
    "        [5, 4]],\n",
    "\n",
    "       [[5, 4],\n",
    "        [4, 4]],\n",
    "\n",
    "       [[5, 5],\n",
    "        [4, 5]]])"
   ],
   "metadata": {}
  },
  {
   "cell_type": "code",
   "execution_count": 144,
   "source": [
    "def get_unique_rows(X):\r\n",
    "    return np.unique(X, axis = 0)"
   ],
   "outputs": [],
   "metadata": {}
  },
  {
   "cell_type": "code",
   "execution_count": 145,
   "source": [
    "X =  np.random.randint(4, 6, size=(n, 2, 2))\r\n",
    "print(X)"
   ],
   "outputs": [
    {
     "output_type": "stream",
     "name": "stdout",
     "text": [
      "[[[5 5]\n",
      "  [5 5]]\n",
      "\n",
      " [[5 4]\n",
      "  [4 5]]\n",
      "\n",
      " [[4 5]\n",
      "  [4 4]]\n",
      "\n",
      " [[4 5]\n",
      "  [5 5]]\n",
      "\n",
      " [[4 5]\n",
      "  [4 4]]\n",
      "\n",
      " [[4 4]\n",
      "  [5 5]]\n",
      "\n",
      " [[5 5]\n",
      "  [5 4]]\n",
      "\n",
      " [[5 5]\n",
      "  [4 5]]\n",
      "\n",
      " [[4 5]\n",
      "  [5 4]]\n",
      "\n",
      " [[4 5]\n",
      "  [5 5]]\n",
      "\n",
      " [[4 5]\n",
      "  [5 5]]\n",
      "\n",
      " [[4 4]\n",
      "  [5 4]]\n",
      "\n",
      " [[5 4]\n",
      "  [5 5]]\n",
      "\n",
      " [[4 4]\n",
      "  [4 5]]\n",
      "\n",
      " [[5 4]\n",
      "  [4 4]]\n",
      "\n",
      " [[5 4]\n",
      "  [4 4]]\n",
      "\n",
      " [[5 5]\n",
      "  [4 5]]\n",
      "\n",
      " [[4 5]\n",
      "  [5 5]]\n",
      "\n",
      " [[5 5]\n",
      "  [5 5]]\n",
      "\n",
      " [[5 4]\n",
      "  [5 4]]\n",
      "\n",
      " [[5 5]\n",
      "  [4 5]]\n",
      "\n",
      " [[5 5]\n",
      "  [5 5]]\n",
      "\n",
      " [[4 5]\n",
      "  [5 5]]\n",
      "\n",
      " [[4 5]\n",
      "  [5 4]]\n",
      "\n",
      " [[4 4]\n",
      "  [4 4]]\n",
      "\n",
      " [[5 5]\n",
      "  [4 4]]\n",
      "\n",
      " [[5 5]\n",
      "  [5 5]]\n",
      "\n",
      " [[5 5]\n",
      "  [5 5]]]\n"
     ]
    }
   ],
   "metadata": {}
  },
  {
   "cell_type": "code",
   "execution_count": 146,
   "source": [
    "get_unique_rows(X)"
   ],
   "outputs": [
    {
     "output_type": "execute_result",
     "data": {
      "text/plain": [
       "array([[[4, 4],\n",
       "        [4, 4]],\n",
       "\n",
       "       [[4, 4],\n",
       "        [4, 5]],\n",
       "\n",
       "       [[4, 4],\n",
       "        [5, 4]],\n",
       "\n",
       "       [[4, 4],\n",
       "        [5, 5]],\n",
       "\n",
       "       [[4, 5],\n",
       "        [4, 4]],\n",
       "\n",
       "       [[4, 5],\n",
       "        [5, 4]],\n",
       "\n",
       "       [[4, 5],\n",
       "        [5, 5]],\n",
       "\n",
       "       [[5, 4],\n",
       "        [4, 4]],\n",
       "\n",
       "       [[5, 4],\n",
       "        [4, 5]],\n",
       "\n",
       "       [[5, 4],\n",
       "        [5, 4]],\n",
       "\n",
       "       [[5, 4],\n",
       "        [5, 5]],\n",
       "\n",
       "       [[5, 5],\n",
       "        [4, 4]],\n",
       "\n",
       "       [[5, 5],\n",
       "        [4, 5]],\n",
       "\n",
       "       [[5, 5],\n",
       "        [5, 4]],\n",
       "\n",
       "       [[5, 5],\n",
       "        [5, 5]]])"
      ]
     },
     "metadata": {},
     "execution_count": 146
    }
   ],
   "metadata": {}
  },
  {
   "cell_type": "markdown",
   "source": [
    "# 3. Pandas & Visualization (4 points)\n"
   ],
   "metadata": {}
  },
  {
   "cell_type": "markdown",
   "source": [
    "You are going to work with *Titanic* dataset which contains information about passengers of Titanic:\n",
    "- **Survived** - 1 - survived, 0 - died (0); **Target variable**\n",
    "- **pclass** - passengers's class;\n",
    "- **sex** - passengers's sex\n",
    "- **Age** - passengers's age in years\n",
    "- **sibsp**    - is the passenger someones siblings   \n",
    "- **parch**    - is the passenger someones child or parent\n",
    "- **ticket** - ticket number    \n",
    "- **fare** - ticket price    \n",
    "- **cabin** - cabin number\n",
    "- **embarked** - port of Embarkation; C = Cherbourg, Q = Queenstown, S = Southampton\n",
    "\n",
    "**Note** for all visualizations use matplotlib or seaborn but NOT plotly! Plotly's graphics sometimes vanish after saving. In this case the task wont't be graded.\n",
    "\n",
    "**Note** support all your answers with necessary code, computations, vizualization, and explanation. Answers without code and explanation won't be graded.\n",
    "\n",
    "**Task 0** (0 points) \\\n",
    "Load the dataset"
   ],
   "metadata": {}
  },
  {
   "cell_type": "code",
   "execution_count": 147,
   "source": [
    "dataset =  pd.read_csv(\"titanic.csv\")\r\n",
    "dataset.head(3)"
   ],
   "outputs": [
    {
     "output_type": "execute_result",
     "data": {
      "text/html": [
       "<div>\n",
       "<style scoped>\n",
       "    .dataframe tbody tr th:only-of-type {\n",
       "        vertical-align: middle;\n",
       "    }\n",
       "\n",
       "    .dataframe tbody tr th {\n",
       "        vertical-align: top;\n",
       "    }\n",
       "\n",
       "    .dataframe thead th {\n",
       "        text-align: right;\n",
       "    }\n",
       "</style>\n",
       "<table border=\"1\" class=\"dataframe\">\n",
       "  <thead>\n",
       "    <tr style=\"text-align: right;\">\n",
       "      <th></th>\n",
       "      <th>PassengerId</th>\n",
       "      <th>Survived</th>\n",
       "      <th>Pclass</th>\n",
       "      <th>Name</th>\n",
       "      <th>Sex</th>\n",
       "      <th>Age</th>\n",
       "      <th>SibSp</th>\n",
       "      <th>Parch</th>\n",
       "      <th>Ticket</th>\n",
       "      <th>Fare</th>\n",
       "      <th>Cabin</th>\n",
       "      <th>Embarked</th>\n",
       "    </tr>\n",
       "  </thead>\n",
       "  <tbody>\n",
       "    <tr>\n",
       "      <th>0</th>\n",
       "      <td>1</td>\n",
       "      <td>0</td>\n",
       "      <td>3</td>\n",
       "      <td>Braund, Mr. Owen Harris</td>\n",
       "      <td>male</td>\n",
       "      <td>22.0</td>\n",
       "      <td>1</td>\n",
       "      <td>0</td>\n",
       "      <td>A/5 21171</td>\n",
       "      <td>7.2500</td>\n",
       "      <td>NaN</td>\n",
       "      <td>S</td>\n",
       "    </tr>\n",
       "    <tr>\n",
       "      <th>1</th>\n",
       "      <td>2</td>\n",
       "      <td>1</td>\n",
       "      <td>1</td>\n",
       "      <td>Cumings, Mrs. John Bradley (Florence Briggs Th...</td>\n",
       "      <td>female</td>\n",
       "      <td>38.0</td>\n",
       "      <td>1</td>\n",
       "      <td>0</td>\n",
       "      <td>PC 17599</td>\n",
       "      <td>71.2833</td>\n",
       "      <td>C85</td>\n",
       "      <td>C</td>\n",
       "    </tr>\n",
       "    <tr>\n",
       "      <th>2</th>\n",
       "      <td>3</td>\n",
       "      <td>1</td>\n",
       "      <td>3</td>\n",
       "      <td>Heikkinen, Miss. Laina</td>\n",
       "      <td>female</td>\n",
       "      <td>26.0</td>\n",
       "      <td>0</td>\n",
       "      <td>0</td>\n",
       "      <td>STON/O2. 3101282</td>\n",
       "      <td>7.9250</td>\n",
       "      <td>NaN</td>\n",
       "      <td>S</td>\n",
       "    </tr>\n",
       "  </tbody>\n",
       "</table>\n",
       "</div>"
      ],
      "text/plain": [
       "   PassengerId  Survived  Pclass  \\\n",
       "0            1         0       3   \n",
       "1            2         1       1   \n",
       "2            3         1       3   \n",
       "\n",
       "                                                Name     Sex   Age  SibSp  \\\n",
       "0                            Braund, Mr. Owen Harris    male  22.0      1   \n",
       "1  Cumings, Mrs. John Bradley (Florence Briggs Th...  female  38.0      1   \n",
       "2                             Heikkinen, Miss. Laina  female  26.0      0   \n",
       "\n",
       "   Parch            Ticket     Fare Cabin Embarked  \n",
       "0      0         A/5 21171   7.2500   NaN        S  \n",
       "1      0          PC 17599  71.2833   C85        C  \n",
       "2      0  STON/O2. 3101282   7.9250   NaN        S  "
      ]
     },
     "metadata": {},
     "execution_count": 147
    }
   ],
   "metadata": {}
  },
  {
   "cell_type": "markdown",
   "source": [
    "---\n",
    "**Task 1** (1 points) <br/>\n",
    "Answer the following questions:\n",
    "    \n",
    "    * Are there any missing values? In which columns?\n",
    "    * How many classes (pclass) were there on Tinanic?\n",
    "    * What is the percentage of survived passengers? Are the classes balanced?\n",
    "    * What is the average ticket fare?\n",
    "    * What was the most popular port of embarkation?\n",
    "Please, write not only the answers but the code, proving it."
   ],
   "metadata": {}
  },
  {
   "cell_type": "code",
   "execution_count": 148,
   "source": [
    "## Your code here\r\n",
    "\r\n",
    "miss = dataset.isnull().sum().sort_values()\r\n",
    "miss = miss[miss != 0]\r\n",
    "\r\n",
    "print(\"Columns with missing values\")\r\n",
    "for a, b in miss.items():\r\n",
    "    print(a)"
   ],
   "outputs": [
    {
     "output_type": "stream",
     "name": "stdout",
     "text": [
      "Columns with missing values\n",
      "Embarked\n",
      "Age\n",
      "Cabin\n"
     ]
    }
   ],
   "metadata": {}
  },
  {
   "cell_type": "code",
   "execution_count": 149,
   "source": [
    "print(\"Unique classes: \", len(dataset[\"Pclass\"].unique()))"
   ],
   "outputs": [
    {
     "output_type": "stream",
     "name": "stdout",
     "text": [
      "Unique classes:  3\n"
     ]
    }
   ],
   "metadata": {}
  },
  {
   "cell_type": "code",
   "execution_count": 150,
   "source": [
    "\r\n",
    "survivors = dataset[\"Survived\"]\r\n",
    "survivors = survivors[survivors == 1]\r\n",
    "\r\n",
    "print(\"Percentage of survivors {}\".format(len(survivors) / len(dataset[\"Survived\"])*100))"
   ],
   "outputs": [
    {
     "output_type": "stream",
     "name": "stdout",
     "text": [
      "Percentage of survivors 38.38383838383838\n"
     ]
    }
   ],
   "metadata": {}
  },
  {
   "cell_type": "code",
   "execution_count": 151,
   "source": [
    "dataset.groupby('Pclass').Survived.mean()\r\n",
    "# Survival rate is not balanced"
   ],
   "outputs": [
    {
     "output_type": "execute_result",
     "data": {
      "text/plain": [
       "Pclass\n",
       "1    0.629630\n",
       "2    0.472826\n",
       "3    0.242363\n",
       "Name: Survived, dtype: float64"
      ]
     },
     "metadata": {},
     "execution_count": 151
    }
   ],
   "metadata": {}
  },
  {
   "cell_type": "code",
   "execution_count": 152,
   "source": [
    "print(\"Average ticket fare: \", dataset[\"Fare\"].mean())"
   ],
   "outputs": [
    {
     "output_type": "stream",
     "name": "stdout",
     "text": [
      "Average ticket fare:  32.2042079685746\n"
     ]
    }
   ],
   "metadata": {}
  },
  {
   "cell_type": "code",
   "execution_count": 153,
   "source": [
    "print(\"The most popular of embarkation is Southhampton\")\r\n",
    "dataset[\"Embarked\"].value_counts()"
   ],
   "outputs": [
    {
     "output_type": "stream",
     "name": "stdout",
     "text": [
      "The most popular of embarkation is Southhampton\n"
     ]
    },
    {
     "output_type": "execute_result",
     "data": {
      "text/plain": [
       "S    644\n",
       "C    168\n",
       "Q     77\n",
       "Name: Embarked, dtype: int64"
      ]
     },
     "metadata": {},
     "execution_count": 153
    }
   ],
   "metadata": {}
  },
  {
   "cell_type": "markdown",
   "source": [
    "---\n",
    "**Task 2** (1 points) <br/>\n",
    "Find all the titles of the passengers (example, *Capt., Mr.,Mme.*), which are written in the column `Name`, and answer the following questions:\n",
    "\n",
    "    * How many are there unique titles?\n",
    "    * How many are there passengers with every title?\n",
    "    * What is the most popular man's title? And woman's title?\n",
    "    \n",
    "**Hint** You may select the title from the name as a word which contains a dot."
   ],
   "metadata": {}
  },
  {
   "cell_type": "code",
   "execution_count": 154,
   "source": [
    "## Your code here\r\n",
    "test = dataset.copy()\r\n",
    "\r\n",
    "titles = test[\"Name\"].apply(lambda n: n.split(',')[1].split('.')[0].strip())\r\n",
    "\r\n",
    "display(titles)\r\n",
    "\r\n",
    "print(\"{} Unique titles\".format(len(titles.unique())))"
   ],
   "outputs": [
    {
     "output_type": "display_data",
     "data": {
      "text/plain": [
       "0        Mr\n",
       "1       Mrs\n",
       "2      Miss\n",
       "3       Mrs\n",
       "4        Mr\n",
       "       ... \n",
       "886     Rev\n",
       "887    Miss\n",
       "888    Miss\n",
       "889      Mr\n",
       "890      Mr\n",
       "Name: Name, Length: 891, dtype: object"
      ]
     },
     "metadata": {}
    },
    {
     "output_type": "stream",
     "name": "stdout",
     "text": [
      "17 Unique titles\n"
     ]
    }
   ],
   "metadata": {}
  },
  {
   "cell_type": "code",
   "execution_count": 155,
   "source": [
    "cnt = titles\r\n",
    "cnt = cnt.groupby(cnt)\r\n",
    "cnt.count()"
   ],
   "outputs": [
    {
     "output_type": "execute_result",
     "data": {
      "text/plain": [
       "Name\n",
       "Capt              1\n",
       "Col               2\n",
       "Don               1\n",
       "Dr                7\n",
       "Jonkheer          1\n",
       "Lady              1\n",
       "Major             2\n",
       "Master           40\n",
       "Miss            182\n",
       "Mlle              2\n",
       "Mme               1\n",
       "Mr              517\n",
       "Mrs             125\n",
       "Ms                1\n",
       "Rev               6\n",
       "Sir               1\n",
       "the Countess      1\n",
       "Name: Name, dtype: int64"
      ]
     },
     "metadata": {},
     "execution_count": 155
    }
   ],
   "metadata": {}
  },
  {
   "cell_type": "code",
   "execution_count": 156,
   "source": [
    "namesex = dataset[[\"Name\", \"Sex\"]]\r\n",
    "namesex[\"Name\"] = namesex[\"Name\"].apply(lambda n: n.split(',')[1].split('.')[0].strip())\r\n",
    "\r\n",
    "sigma_males = namesex[namesex[\"Sex\"] == \"male\"]\r\n",
    "print(f\"Most popular title among males: {sigma_males.mode()['Name'].to_string(index=False)}\")\r\n",
    "\r\n",
    "women = namesex[namesex[\"Sex\"] == \"female\"]\r\n",
    "print(f\"Most popular title among females: {women.mode()['Name'].to_string(index=False)}\")"
   ],
   "outputs": [
    {
     "output_type": "stream",
     "name": "stdout",
     "text": [
      "Most popular title among males:  Mr\n",
      "Most popular title among females:  Miss\n"
     ]
    },
    {
     "output_type": "stream",
     "name": "stderr",
     "text": [
      "<ipython-input-156-300f6b38c83d>:2: SettingWithCopyWarning: \n",
      "A value is trying to be set on a copy of a slice from a DataFrame.\n",
      "Try using .loc[row_indexer,col_indexer] = value instead\n",
      "\n",
      "See the caveats in the documentation: https://pandas.pydata.org/pandas-docs/stable/user_guide/indexing.html#returning-a-view-versus-a-copy\n",
      "  namesex[\"Name\"] = namesex[\"Name\"].apply(lambda n: n.split(',')[1].split('.')[0].strip())\n"
     ]
    }
   ],
   "metadata": {}
  },
  {
   "cell_type": "markdown",
   "source": [
    "---\n",
    "**Task 3** (0.5 points) <br/>\n",
    "Visualize age distribution (you may use a histogram, for example). \n",
    "\n",
    "    * What is the minimal and maximum ages of the passengers? Visualize it on the plot\n",
    "    * What is the mean age? Visualize it on the plot\n",
    "    * Make conclusions about what you see on the plot"
   ],
   "metadata": {}
  },
  {
   "cell_type": "code",
   "execution_count": 157,
   "source": [
    "## Your code here\r\n",
    "\r\n",
    "ages = dataset[\"Age\"]\r\n",
    "\r\n",
    "print(\"Minimum age: \", ages.min())\r\n",
    "print(\"Maximum age: \", ages.max())\r\n",
    "dataset[\"Age\"].hist()"
   ],
   "outputs": [
    {
     "output_type": "stream",
     "name": "stdout",
     "text": [
      "Minimum age:  0.42\n",
      "Maximum age:  80.0\n"
     ]
    },
    {
     "output_type": "execute_result",
     "data": {
      "text/plain": [
       "<AxesSubplot:>"
      ]
     },
     "metadata": {},
     "execution_count": 157
    },
    {
     "output_type": "display_data",
     "data": {
      "image/png": "[encoded data removed]",
      "text/plain": [
       "<Figure size 432x288 with 1 Axes>"
      ]
     },
     "metadata": {
      "needs_background": "light"
     }
    }
   ],
   "metadata": {}
  },
  {
   "cell_type": "code",
   "execution_count": 158,
   "source": [
    "print(\"Mean age: \", ages.mean())"
   ],
   "outputs": [
    {
     "output_type": "stream",
     "name": "stdout",
     "text": [
      "Mean age:  29.69911764705882\n"
     ]
    }
   ],
   "metadata": {}
  },
  {
   "cell_type": "markdown",
   "source": [
    "From the histogram above we can see that the vast majority of passengers are above the age of 20. Also it should be noted that there are babies on the board who didn't even hit the age of 1 yet."
   ],
   "metadata": {}
  },
  {
   "cell_type": "markdown",
   "source": [
    "---\n",
    "**Task 4** (0.5 points) <br/>\n",
    "Visualize age distribution for survived and not survived passengers separately and calculate the mean age for each class. Are they different? Make conclusions about what you see on the plot"
   ],
   "metadata": {}
  },
  {
   "cell_type": "code",
   "execution_count": 159,
   "source": [
    "## You code here\r\n",
    "\r\n",
    "sa = dataset[[\"Survived\", \"Age\"]]\r\n",
    "dead = sa[sa[\"Survived\"] == 0]\r\n",
    "survivors = sa[sa[\"Survived\"] == 1]\r\n",
    "\r\n",
    "dead[\"Age\"].hist()\r\n",
    "print(\"Mean age of dead people\", dead[\"Age\"].mean())"
   ],
   "outputs": [
    {
     "output_type": "stream",
     "name": "stdout",
     "text": [
      "Mean age of dead people 30.62617924528302\n"
     ]
    },
    {
     "output_type": "display_data",
     "data": {
      "image/png": "[encoded data removed]",
      "text/plain": [
       "<Figure size 432x288 with 1 Axes>"
      ]
     },
     "metadata": {
      "needs_background": "light"
     }
    }
   ],
   "metadata": {}
  },
  {
   "cell_type": "code",
   "execution_count": 160,
   "source": [
    "survivors[\"Age\"].hist()\r\n",
    "print(\"Mean age of survivors\", survivors[\"Age\"].mean())\r\n",
    "\r\n",
    "# From the data we can see that a young people between the ages of 0-10 \r\n",
    "# have better chances of survival than old people"
   ],
   "outputs": [
    {
     "output_type": "stream",
     "name": "stdout",
     "text": [
      "Mean age of survivors 28.343689655172415\n"
     ]
    },
    {
     "output_type": "display_data",
     "data": {
      "image/png": "[encoded data removed]",
      "text/plain": [
       "<Figure size 432x288 with 1 Axes>"
      ]
     },
     "metadata": {
      "needs_background": "light"
     }
    }
   ],
   "metadata": {}
  },
  {
   "cell_type": "markdown",
   "source": [
    "---\n",
    "**Task 5** (0.5 points) <br/>\n",
    "Is there correlation between the port of embarkation and the ticket price? Calculate mean price for each port and visualize price distribution for each port. Make conclusions about what you see on the plot\n",
    "\n",
    "Hint: you could make one or several plot types i.e.  box, violine, pair, histogram (see additional notebooks for Seminar 1 \"Visualization with Seaborn\"). The main point here is to **choose** plots wisely and **make meaningful conclusions**\n",
    "\n"
   ],
   "metadata": {}
  },
  {
   "cell_type": "code",
   "execution_count": 161,
   "source": [
    "## You code here"
   ],
   "outputs": [],
   "metadata": {}
  },
  {
   "cell_type": "markdown",
   "source": [
    "---\n",
    "**Task 6** (0.5 points) <br/>\n",
    "The same question as in task 5 about correlation between *pclass* and *ticket priсe*."
   ],
   "metadata": {}
  },
  {
   "cell_type": "code",
   "execution_count": 162,
   "source": [
    "## You code here"
   ],
   "outputs": [],
   "metadata": {}
  }
 ],
 "metadata": {
  "kernelspec": {
   "name": "python3",
   "display_name": "Python 3.8.5 64-bit ('base': conda)"
  },
  "language_info": {
   "codemirror_mode": {
    "name": "ipython",
    "version": 3
   },
   "file_extension": ".py",
   "mimetype": "text/x-python",
   "name": "python",
   "nbconvert_exporter": "python",
   "pygments_lexer": "ipython3",
   "version": "3.8.5"
  },
  "interpreter": {
   "hash": "f9e496b6079ebdca3fd1153996abb9aebfe917dd534f52abd6bf09ff3d3ba042"
  }
 },
 "nbformat": 4,
 "nbformat_minor": 4
}